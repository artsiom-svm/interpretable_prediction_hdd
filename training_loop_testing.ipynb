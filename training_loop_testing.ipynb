{
 "cells": [
  {
   "cell_type": "code",
   "execution_count": 1,
   "metadata": {},
   "outputs": [],
   "source": [
    "import os\n",
    "os.environ[\"CUDA_VISIBLE_DEVICES\"]=\"-1\" \n",
    "\n",
    "import datetime\n",
    "import dataloader as module_data\n",
    "import model.callback as module_callback\n",
    "import model.metric as module_metric\n",
    "import model.loss as module_loss\n",
    "import model as module_arch\n",
    "import argparse\n",
    "import json\n",
    "import numpy as np\n",
    "import tensorflow.keras as keras\n",
    "import tensorflow as tf\n",
    "import os\n",
    "import utils\n",
    "from shutil import copy2\n",
    "from tensorflow.python.client import device_lib\n",
    "\n",
    "def get_instance(module, name, config, *args):\n",
    "    return getattr(module, config[name]['type'])(*args, **config[name]['args'])\n",
    "\n",
    "\n",
    "def train(config_name):\n",
    "    config = json.load(open(config_name))\n",
    "    tf.random.set_seed(config['seed'])\n",
    "\n",
    "    strategy = tf.distribute.MirroredStrategy([x.name for x in device_lib.list_local_devices() if 'device:CPU' in x.name or 'device:GPU' in x.name])\n",
    "    \n",
    "    with strategy.scope():\n",
    "        model = get_instance(module_arch, 'arch', config)\n",
    "\n",
    "        try:\n",
    "            model.set_loss(get_instance(module_loss, 'loss', config))\n",
    "        except:\n",
    "            model.set_loss(config['loss'])\n",
    "\n",
    "        for metric in config['metrics']:\n",
    "            try:\n",
    "                model.add_metric(\n",
    "                    getattr(module_metric, metric['type'])(model, **metric['args']))\n",
    "            except:\n",
    "                model.add_metric(metric)\n",
    "\n",
    "        model.set_optimizer(get_instance(\n",
    "            keras.optimizers, 'optimizer', config))\n",
    "\n",
    "        if config[\"restore\"] is not None and config[\"restore\"][\"continue\"]:\n",
    "            restore = config[\"restore\"]\n",
    "            uniq = restore[\"dir\"]\n",
    "            logdir = f\"logs/fit/{config['name']}/{uniq}\"\n",
    "\n",
    "            if restore[\"step\"] == \"last\":\n",
    "                check_point_name = tf.train.latest_checkpoint(f\"{logdir}/checkpoints/\")\n",
    "            else:\n",
    "                epoch = np.int(restore[\"step\"])\n",
    "                check_point_name = f\"{logdir}/checkpoints/cp-{epoch}.ckpt\"\n",
    "            model.model.load_weights(check_point_name)\n",
    "\n",
    "        if config[\"restore\"] is None or not config[\"restore\"][\"overwrite\"]:\n",
    "            uniq = datetime.datetime.now().strftime(\"%Y%m%d-%H%M%S\")\n",
    "            logdir = f\"logs/fit/{config['name']}/{uniq}\"\n",
    "            try:\n",
    "                os.makedirs(logdir)\n",
    "            except:\n",
    "                pass\n",
    "\n",
    "        copy2(config_name, os.path.join(logdir, 'config.json'))\n",
    "        batch_size = config['trainer']['batch_size']\n",
    "        checkpoint_dir = os.path.join(logdir, 'checkpoints')\n",
    "\n",
    "\n",
    "        for callback in config['callbacks']:\n",
    "            callback_logdir = None\n",
    "            callback_name = callback['type']\n",
    "            if 'format' in callback['args']:\n",
    "                frmt = callback['args']['format']\n",
    "                del callback['args']['format']\n",
    "                if callback_name == 'ModelCheckpoint':\n",
    "                    callback_logdir = os.path.join(checkpoint_dir, frmt)\n",
    "                else:\n",
    "                    callback_logdir = os.path.join(logdir, frmt)\n",
    "\n",
    "            # predefined callback from keras.callbacks\n",
    "            if callback_name in dir(keras.callbacks):\n",
    "                if callback_logdir:\n",
    "                    model.add_callback(\n",
    "                        getattr(keras.callbacks, callback_name)(callback_logdir, **callback['args']))\n",
    "                else:\n",
    "                    model.add_callback(\n",
    "                        getattr(keras.callbacks, callback_name)(**callback['args']))\n",
    "            # custom callback from model.callbacks pacakgage\n",
    "            else:\n",
    "                if 'callback' in callback['args']:\n",
    "                    internal_callback = getattr(utils, callback['args']['callback'])\n",
    "                    del callback['args']['callback']\n",
    "                else:\n",
    "                    internal_callback = None\n",
    "\n",
    "                model.add_callback(\n",
    "                    getattr(module_callback, callback_name)(model=model,\n",
    "                                                            logdir=callback_logdir,\n",
    "                                                            callback= internal_callback,\n",
    "                                                            batch_size=batch_size,\n",
    "                                                            checkpoint_dir=checkpoint_dir,\n",
    "                                                            **callback['args']\n",
    "                                                           ))\n",
    "\n",
    "#         model.set_class_weight([1. / config[\"class_weight\"], 1])\n",
    "        model.compile()\n",
    "    \n",
    "    dataloader = get_instance(module_data, 'dataloader', config)\n",
    "\n",
    "    history = model.train(dataloader.train,\n",
    "                          dataloader.valid,\n",
    "                          dataloader.test,\n",
    "                          **config[\"trainer\"])\n",
    "    return history"
   ]
  },
  {
   "cell_type": "code",
   "execution_count": 2,
   "metadata": {
    "scrolled": false
   },
   "outputs": [
    {
     "name": "stderr",
     "output_type": "stream",
     "text": [
      "WARNING: Logging before flag parsing goes to stderr.\n",
      "W1113 14:00:32.243844 139830181177152 cross_device_ops.py:1168] There is non-GPU devices in `tf.distribute.Strategy`, not using nccl allreduce.\n",
      "W1113 14:00:32.817613 139830181177152 deprecation.py:323] From /home/abalak8/.local/lib/python3.6/site-packages/tensorflow/python/keras/backend.py:3868: add_dispatch_support.<locals>.wrapper (from tensorflow.python.ops.array_ops) is deprecated and will be removed in a future version.\n",
      "Instructions for updating:\n",
      "Use tf.where in 2.0, which has the same broadcast rule as np.where\n",
      "W1113 14:00:35.891628 139830181177152 distributed_training_utils.py:223] `histogram_freq` in the TensorBoard callback is not supported when using DistributionStrategy. Setting `histogram_freq` to `0`.\n",
      "W1113 14:00:36.127501 139830181177152 summary_ops_v2.py:1110] Model failed to serialize as JSON. Ignoring... ('Not JSON Serializable:', b'\\n\\x08NotEqual\\x12\\x08NotEqual\\x1a\\x07input_1\\x1a\\nNotEqual/y*\\x07\\n\\x01T\\x12\\x020\\x01')\n"
     ]
    },
    {
     "name": "stdout",
     "output_type": "stream",
     "text": [
      "Train on 36 steps, validate on 4 steps\n",
      "Epoch 1/2\n",
      "35/36 [============================>.] - ETA: 0s - loss: 0.6903 - binary_accuracy: 0.5593\n",
      "Epoch 00001: val_roc improved from -inf to 0.05233, saving model to logs/fit/RETAIN_toyset_masked/20191113-140033/checkpoints/best.ckpt\n",
      "36/36 [==============================] - 12s 347ms/step - loss: 0.6901 - binary_accuracy: 0.5607 - val_loss: 0.6816 - val_binary_accuracy: 0.6530\n",
      "Epoch 2/2\n",
      "33/36 [==========================>...] - ETA: 0s - loss: 0.6670 - binary_accuracy: 0.6487"
     ]
    },
    {
     "name": "stderr",
     "output_type": "stream",
     "text": [
      "W1113 14:00:52.900978 139830181177152 training_arrays.py:309] Your dataset ran out of data; interrupting training. Make sure that your dataset can generate at least `steps_per_epoch * epochs` batches (in this case, 72 batches). You may need to use the repeat() function when building your dataset.\n"
     ]
    },
    {
     "name": "stdout",
     "output_type": "stream",
     "text": [
      "\n",
      "Epoch 00002: val_roc improved from 0.05233 to 0.08721, saving model to logs/fit/RETAIN_toyset_masked/20191113-140033/checkpoints/best.ckpt\n",
      "\b\b\b\b\b\b\b\b\b\b\b\b\b\b\b\b\b\b\b\b\b\b\b\b\b\b\b\b\b\b\b\b\b\b\b\b\b\b\b\b\b\b\b\b\b\b\b\b\b\b\b\b\b\b\b\b\b\b\b\b\b\b\b\b\b\b\b\b\b\b\b\b\b\b\b\b\b\b\b\b\b\b\b\b\b\b\b\b\b\r",
      "35/36 [============================>.] - ETA: 0s - loss: 0.6650 - binary_accuracy: 0.6510"
     ]
    },
    {
     "ename": "TypeError",
     "evalue": "'History' object is not iterable",
     "output_type": "error",
     "traceback": [
      "\u001b[0;31m---------------------------------------------------------------------------\u001b[0m",
      "\u001b[0;31mTypeError\u001b[0m                                 Traceback (most recent call last)",
      "\u001b[0;32m<ipython-input-2-a022a0f66b12>\u001b[0m in \u001b[0;36m<module>\u001b[0;34m\u001b[0m\n\u001b[1;32m      1\u001b[0m \u001b[0mconfig_file\u001b[0m \u001b[0;34m=\u001b[0m \u001b[0;34m\"config/retain_toyset_with_mask.json\"\u001b[0m\u001b[0;34m\u001b[0m\u001b[0;34m\u001b[0m\u001b[0m\n\u001b[0;32m----> 2\u001b[0;31m \u001b[0mmodel\u001b[0m\u001b[0;34m,\u001b[0m \u001b[0mdataloader\u001b[0m \u001b[0;34m=\u001b[0m \u001b[0mtrain\u001b[0m\u001b[0;34m(\u001b[0m\u001b[0mconfig_file\u001b[0m\u001b[0;34m)\u001b[0m\u001b[0;34m\u001b[0m\u001b[0;34m\u001b[0m\u001b[0m\n\u001b[0m",
      "\u001b[0;31mTypeError\u001b[0m: 'History' object is not iterable"
     ]
    }
   ],
   "source": [
    "config_file = \"config/retain_toyset_with_mask.json\"\n",
    "model, dataloader = train(config_file)"
   ]
  },
  {
   "cell_type": "code",
   "execution_count": 25,
   "metadata": {},
   "outputs": [
    {
     "data": {
      "text/plain": [
       "'logs/fit/RETAIN_HDD/20191012-104155/checkpoints/cp-200.ckpt'"
      ]
     },
     "execution_count": 25,
     "metadata": {},
     "output_type": "execute_result"
    }
   ],
   "source": [
    "tf.train.latest_checkpoint(\"logs/fit/RETAIN_HDD/20191012-104155/checkpoints/\")"
   ]
  },
  {
   "cell_type": "code",
   "execution_count": 31,
   "metadata": {},
   "outputs": [
    {
     "data": {
      "text/plain": [
       "True"
      ]
     },
     "execution_count": 31,
     "metadata": {},
     "output_type": "execute_result"
    }
   ],
   "source": [
    "modelB = model\n",
    "np.alltrue(modelB.Wa.get_weights()[0] == modelA.Wa.get_weights()[0])"
   ]
  },
  {
   "cell_type": "code",
   "execution_count": 32,
   "metadata": {},
   "outputs": [
    {
     "data": {
      "text/plain": [
       "True"
      ]
     },
     "execution_count": 32,
     "metadata": {},
     "output_type": "execute_result"
    }
   ],
   "source": [
    "np.alltrue(modelB.Wa.get_weights()[1] == modelA.Wa.get_weights()[1])"
   ]
  },
  {
   "cell_type": "code",
   "execution_count": 33,
   "metadata": {},
   "outputs": [
    {
     "data": {
      "text/plain": [
       "True"
      ]
     },
     "execution_count": 33,
     "metadata": {},
     "output_type": "execute_result"
    }
   ],
   "source": [
    "np.alltrue(modelB.Wb.get_weights()[0] == modelA.Wb.get_weights()[0])"
   ]
  },
  {
   "cell_type": "code",
   "execution_count": 34,
   "metadata": {},
   "outputs": [
    {
     "data": {
      "text/plain": [
       "True"
      ]
     },
     "execution_count": 34,
     "metadata": {},
     "output_type": "execute_result"
    }
   ],
   "source": [
    "np.alltrue(modelB.Wb.get_weights()[1] == modelA.Wb.get_weights()[1])"
   ]
  },
  {
   "cell_type": "code",
   "execution_count": 35,
   "metadata": {},
   "outputs": [
    {
     "data": {
      "text/plain": [
       "True"
      ]
     },
     "execution_count": 35,
     "metadata": {},
     "output_type": "execute_result"
    }
   ],
   "source": [
    "np.alltrue(modelB.Wc.get_weights()[0] == modelA.Wc.get_weights()[0])"
   ]
  },
  {
   "cell_type": "code",
   "execution_count": 36,
   "metadata": {},
   "outputs": [
    {
     "data": {
      "text/plain": [
       "True"
      ]
     },
     "execution_count": 36,
     "metadata": {},
     "output_type": "execute_result"
    }
   ],
   "source": [
    "np.alltrue(modelB.Wc.get_weights()[1] == modelA.Wc.get_weights()[1])"
   ]
  },
  {
   "cell_type": "code",
   "execution_count": null,
   "metadata": {},
   "outputs": [],
   "source": []
  },
  {
   "cell_type": "code",
   "execution_count": 23,
   "metadata": {},
   "outputs": [
    {
     "data": {
      "text/plain": [
       "array([[ 1.0041709 ],\n",
       "       [ 0.696858  ],\n",
       "       [-0.6414719 ],\n",
       "       [ 0.24650587],\n",
       "       [ 0.6046004 ],\n",
       "       [ 0.04480207],\n",
       "       [ 0.781792  ],\n",
       "       [-0.7512134 ],\n",
       "       [ 0.00526177],\n",
       "       [ 0.74700516],\n",
       "       [-0.8989994 ],\n",
       "       [ 0.12066373],\n",
       "       [-0.7553958 ],\n",
       "       [-0.68922925],\n",
       "       [ 0.5063263 ],\n",
       "       [-0.6467352 ],\n",
       "       [-0.05014832],\n",
       "       [-0.36592248],\n",
       "       [ 0.44584894],\n",
       "       [ 0.47845986],\n",
       "       [ 0.8411097 ],\n",
       "       [-0.6265615 ],\n",
       "       [-0.03946459],\n",
       "       [-0.6287142 ],\n",
       "       [-0.35207695],\n",
       "       [-0.2656605 ],\n",
       "       [-0.53217137],\n",
       "       [-0.02602675],\n",
       "       [ 0.46947107],\n",
       "       [-0.45156282],\n",
       "       [-0.39143065],\n",
       "       [ 0.7186504 ],\n",
       "       [-0.4933359 ],\n",
       "       [ 0.24510817],\n",
       "       [-0.3109455 ],\n",
       "       [-0.25213006],\n",
       "       [-0.69698775],\n",
       "       [-0.6631964 ],\n",
       "       [ 0.4628349 ],\n",
       "       [-0.5554229 ],\n",
       "       [-0.47144377],\n",
       "       [ 0.53710693],\n",
       "       [ 0.3056898 ],\n",
       "       [-0.41162077],\n",
       "       [ 0.45652065],\n",
       "       [-0.34706962],\n",
       "       [-1.0501959 ],\n",
       "       [ 0.20028472],\n",
       "       [-0.86075485],\n",
       "       [-0.15101984]], dtype=float32)"
      ]
     },
     "execution_count": 23,
     "metadata": {},
     "output_type": "execute_result"
    }
   ],
   "source": [
    "modelA = model\n",
    "modelA.Wa.get_weights()[0]"
   ]
  },
  {
   "cell_type": "code",
   "execution_count": 61,
   "metadata": {},
   "outputs": [
    {
     "data": {
      "text/plain": [
       "<tensorflow.python.training.tracking.util.CheckpointLoadStatus at 0x7f1979720240>"
      ]
     },
     "execution_count": 61,
     "metadata": {},
     "output_type": "execute_result"
    }
   ],
   "source": [
    "model.model.load_weights(my_path)"
   ]
  },
  {
   "cell_type": "code",
   "execution_count": 62,
   "metadata": {},
   "outputs": [
    {
     "data": {
      "text/plain": [
       "<tf.Tensor: id=272383, shape=(5, 1), dtype=float32, numpy=\n",
       "array([[0.27562103],\n",
       "       [0.5970974 ],\n",
       "       [0.5781567 ],\n",
       "       [0.64718854],\n",
       "       [0.40662736]], dtype=float32)>"
      ]
     },
     "execution_count": 62,
     "metadata": {},
     "output_type": "execute_result"
    }
   ],
   "source": [
    "model(X)"
   ]
  },
  {
   "cell_type": "code",
   "execution_count": 57,
   "metadata": {},
   "outputs": [
    {
     "data": {
      "text/plain": [
       "'logs/fit/RETAIN_toyset_masked/20191011-160236/checkpoints/best.ckpt'"
      ]
     },
     "execution_count": 57,
     "metadata": {},
     "output_type": "execute_result"
    }
   ],
   "source": [
    "my_path"
   ]
  },
  {
   "cell_type": "code",
   "execution_count": 63,
   "metadata": {},
   "outputs": [],
   "source": [
    "model.model.predict?"
   ]
  },
  {
   "cell_type": "code",
   "execution_count": 4,
   "metadata": {},
   "outputs": [
    {
     "data": {
      "text/plain": [
       "<matplotlib.image.AxesImage at 0x7f65303ac128>"
      ]
     },
     "execution_count": 4,
     "metadata": {},
     "output_type": "execute_result"
    },
    {
     "data": {
      "image/png": "[encoded data removed]",
      "text/plain": [
       "<Figure size 1152x240 with 1 Axes>"
      ]
     },
     "metadata": {
      "needs_background": "light"
     },
     "output_type": "display_data"
    }
   ],
   "source": [
    "import matplotlib.pyplot as plt\n",
    "plt.matshow(model.get_contribution_coefficients(X)[0].T)"
   ]
  },
  {
   "cell_type": "code",
   "execution_count": 6,
   "metadata": {},
   "outputs": [
    {
     "data": {
      "text/plain": [
       "(24, 5)"
      ]
     },
     "execution_count": 6,
     "metadata": {},
     "output_type": "execute_result"
    }
   ],
   "source": [
    "model.get_contribution(X)[0].shape"
   ]
  },
  {
   "cell_type": "code",
   "execution_count": 29,
   "metadata": {},
   "outputs": [
    {
     "data": {
      "text/plain": [
       "<tf.Tensor: id=229841, shape=(5, 1), dtype=float32, numpy=\n",
       "array([[0.495444 ],\n",
       "       [0.5060141],\n",
       "       [0.5103357],\n",
       "       [0.5183436],\n",
       "       [0.514245 ]], dtype=float32)>"
      ]
     },
     "execution_count": 29,
     "metadata": {},
     "output_type": "execute_result"
    }
   ],
   "source": [
    "X = dataloader.train.xy[0][:5]\n",
    "model(X)"
   ]
  },
  {
   "cell_type": "code",
   "execution_count": 7,
   "metadata": {},
   "outputs": [],
   "source": [
    "import pickle"
   ]
  },
  {
   "cell_type": "code",
   "execution_count": 9,
   "metadata": {},
   "outputs": [
    {
     "data": {
      "text/plain": [
       "array([b'datapoint: 1', b'datapoint: 24', b'datapoint: 25',\n",
       "       b'datapoint: 29', b'datapoint: 31', b'datapoint: 49',\n",
       "       b'datapoint: 55', b'datapoint: 56', b'datapoint: 73',\n",
       "       b'datapoint: 77'], dtype='|S15')"
      ]
     },
     "execution_count": 9,
     "metadata": {},
     "output_type": "execute_result"
    }
   ],
   "source": [
    "pickle.load(open(\"logs/fit/RETAIN_toyset_masked/20191011-164713/heatmaps/raw.pkl\", \"rb\"))['names']"
   ]
  },
  {
   "cell_type": "code",
   "execution_count": 66,
   "metadata": {},
   "outputs": [],
   "source": [
    "vals = {'x': x, 'y': y}"
   ]
  },
  {
   "cell_type": "code",
   "execution_count": 68,
   "metadata": {},
   "outputs": [],
   "source": [
    "pickle.dump(vals, open(\"test.pkl\", \"wb\"))"
   ]
  },
  {
   "cell_type": "code",
   "execution_count": 72,
   "metadata": {},
   "outputs": [
    {
     "data": {
      "text/plain": [
       "array([ True,  True,  True,  True,  True,  True,  True,  True,  True,\n",
       "        True])"
      ]
     },
     "execution_count": 72,
     "metadata": {},
     "output_type": "execute_result"
    }
   ],
   "source": [
    "pickle.load(open(\"test.pkl\", \"rb\"))['y'] == y"
   ]
  },
  {
   "cell_type": "code",
   "execution_count": 37,
   "metadata": {},
   "outputs": [
    {
     "data": {
      "text/plain": [
       "10"
      ]
     },
     "execution_count": 37,
     "metadata": {},
     "output_type": "execute_result"
    }
   ],
   "source": [
    "np.int(\"10\")"
   ]
  },
  {
   "cell_type": "code",
   "execution_count": null,
   "metadata": {},
   "outputs": [],
   "source": []
  }
 ],
 "metadata": {
  "kernelspec": {
   "display_name": "Python 3",
   "language": "python",
   "name": "python3"
  }
 },
 "nbformat": 4,
 "nbformat_minor": 2
}
