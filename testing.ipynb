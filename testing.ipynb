{
 "cells": [
  {
   "cell_type": "code",
   "execution_count": 2,
   "metadata": {
    "scrolled": false
   },
   "outputs": [],
   "source": [
    "import model as model_arch\n",
    "import tensorflow as tf\n",
    "import tensorflow.keras as keras\n",
    "import numpy as np\n",
    "import matplotlib.pyplot as plt\n",
    "import seaborn as sns\n",
    "import datetime\n",
    "import io\n",
    "import h5py\n",
    "sns.set()"
   ]
  },
  {
   "cell_type": "code",
   "execution_count": 3,
   "metadata": {},
   "outputs": [],
   "source": [
    "N, T, m = 10000, 15, (2,4,6,8,10)"
   ]
  },
  {
   "cell_type": "code",
   "execution_count": null,
   "metadata": {
    "scrolled": false
   },
   "outputs": [],
   "source": [
    "model = model_arch.RETAIN_LSTM(n_feat=len(m),\n",
    "                              Wemb_size=30,\n",
    "                              lstm_sizes=\"[15, 15]\",\n",
    "                              fc_sizes=\"[30]\",\n",
    "                              l1=1e-3)"
   ]
  },
  {
   "cell_type": "code",
   "execution_count": null,
   "metadata": {},
   "outputs": [],
   "source": [
    "tf.__version__, tf.test.is_gpu_available()"
   ]
  },
  {
   "cell_type": "code",
   "execution_count": 4,
   "metadata": {},
   "outputs": [],
   "source": [
    "def generate_dataset(N, T, m):\n",
    "    def sigmoid(x):\n",
    "        return 1 / (1 + np.exp(-x))\n",
    "    mu, sigma = 0, 1\n",
    "    x = np.random.normal(mu, sigma, N * T * len(m)).astype(np.float32).reshape((N,T, len(m)))\n",
    "    z = np.random.normal(mu, sigma, N) / 100\n",
    "    xz = np.copy(x)\n",
    "    for i, mi in enumerate(m):\n",
    "        x[:, :-mi, i] = 0\n",
    "    y = sigmoid(x.sum(axis=1).sum(axis=1) + z)\n",
    "    y[y > 0.5] = 1.\n",
    "    y[y < 0.5] = 0.\n",
    "    \n",
    "    return xz, y.reshape((-1, 1))"
   ]
  },
  {
   "cell_type": "code",
   "execution_count": 5,
   "metadata": {},
   "outputs": [
    {
     "data": {
      "text/plain": [
       "((10000, 15, 5), (10000, 1))"
      ]
     },
     "execution_count": 5,
     "metadata": {},
     "output_type": "execute_result"
    }
   ],
   "source": [
    "x, y = generate_dataset(N=N, T=T,m=m)\n",
    "xt, yt = generate_dataset(N=N, T=T, m=m)\n",
    "x.shape, y.shape"
   ]
  },
  {
   "cell_type": "code",
   "execution_count": 6,
   "metadata": {},
   "outputs": [],
   "source": [
    "fd = h5py.File('./data/toyset.hdf5', 'w')"
   ]
  },
  {
   "cell_type": "code",
   "execution_count": 7,
   "metadata": {},
   "outputs": [
    {
     "data": {
      "text/plain": [
       "<HDF5 dataset \"Y\": shape (10000, 1), type \"<f8\">"
      ]
     },
     "execution_count": 7,
     "metadata": {},
     "output_type": "execute_result"
    }
   ],
   "source": [
    "t"
   ]
  },
  {
   "cell_type": "code",
   "execution_count": 8,
   "metadata": {},
   "outputs": [
    {
     "data": {
      "text/plain": [
       "b'datapoint: 10'"
      ]
     },
     "execution_count": 8,
     "metadata": {},
     "output_type": "execute_result"
    }
   ],
   "source": [
    "fd['Names'][10]"
   ]
  },
  {
   "cell_type": "code",
   "execution_count": 9,
   "metadata": {},
   "outputs": [
    {
     "data": {
      "text/plain": [
       "b'datapoint: 3'"
      ]
     },
     "execution_count": 9,
     "metadata": {},
     "output_type": "execute_result"
    }
   ],
   "source": [
    "Names = fd['Names']\n",
    "dtype = Names.dtype\n",
    "names_copy = np.empty((N), dtype=dtype)\n",
    "\n",
    "Names.read_direct(names_copy)\n",
    "\n",
    "names_copy[3]"
   ]
  },
  {
   "cell_type": "code",
   "execution_count": 10,
   "metadata": {},
   "outputs": [],
   "source": [
    "fd.close()"
   ]
  },
  {
   "cell_type": "code",
   "execution_count": null,
   "metadata": {},
   "outputs": [],
   "source": [
    "model.model.compile(optimizer=keras.optimizers.Adam(learning_rate=1e-3), \n",
    "                    loss=keras.losses.binary_crossentropy,\n",
    "                    metrics=[keras.metrics.binary_accuracy]\n",
    "                   )"
   ]
  },
  {
   "cell_type": "code",
   "execution_count": null,
   "metadata": {},
   "outputs": [],
   "source": [
    "model.model.summary()"
   ]
  },
  {
   "cell_type": "code",
   "execution_count": null,
   "metadata": {
    "scrolled": true
   },
   "outputs": [],
   "source": [
    "log_dir=\"logs/fit/test_dataset/\" + datetime.datetime.now().strftime(\"%Y%m%d-%H%M%S\")\n",
    "\n",
    "cp_callback = tf.keras.callbacks.ModelCheckpoint(log_dir + \"/checkpoints/cp-{epoch:04d}.ckpt\",\n",
    "                                                 save_weights_only=True,\n",
    "                                                 verbose=0)\n",
    "\n",
    "tensorboard_callback = tf.keras.callbacks.TensorBoard(log_dir=log_dir, \n",
    "                                                  histogram_freq=1, \n",
    "                                                  write_images=True, \n",
    "                                                  profile_batch=0)\n",
    "file_writer = tf.summary.create_file_writer(log_dir)\n",
    "\n",
    "history = model.model.fit(x,y,\n",
    "               validation_data=(xt, yt),\n",
    "               verbose=0,\n",
    "               batch_size=256,\n",
    "               epochs=10,\n",
    "               callbacks=[tensorboard_callback, cp_callback])"
   ]
  },
  {
   "cell_type": "code",
   "execution_count": null,
   "metadata": {},
   "outputs": [],
   "source": [
    "history.epoch"
   ]
  },
  {
   "cell_type": "code",
   "execution_count": null,
   "metadata": {
    "scrolled": true
   },
   "outputs": [],
   "source": [
    "xp, yp = generate_dataset(N=1000, T=T, m=m)\n",
    "\n",
    "contribution = model.get_contribution_coefficients(xp)\n",
    "for c,x in zip(contribution[:3],xp[:3]):\n",
    "    plt.figure()\n",
    "    plt.matshow(np.abs(c * x).T, cmap='hot')\n",
    "    plt.colorbar()"
   ]
  },
  {
   "cell_type": "code",
   "execution_count": null,
   "metadata": {
    "scrolled": true
   },
   "outputs": [],
   "source": [
    "c = contribution.mean(axis=0).T\n",
    "plt.matshow(np.abs(c), cmap='hot')\n",
    "plt.colorbar()\n",
    "plt.figure()\n",
    "for mi,ci in zip(m,c):\n",
    "    plt.plot(ci, label='m=%d' % mi)\n",
    "plt.legend(bbox_to_anchor=(1.05, 1), loc='upper left', borderaxespad=0.)"
   ]
  },
  {
   "cell_type": "code",
   "execution_count": null,
   "metadata": {},
   "outputs": [],
   "source": [
    "model.model.evaluate(xp, yp)"
   ]
  },
  {
   "cell_type": "code",
   "execution_count": null,
   "metadata": {},
   "outputs": [],
   "source": [
    "epoch = 10\n",
    "model.model.load_weights(log_dir + f\"/checkpoints/cp-{epoch:04d}.ckpt\")"
   ]
  },
  {
   "cell_type": "code",
   "execution_count": null,
   "metadata": {},
   "outputs": [],
   "source": [
    "model.model.evaluate(xp, yp)"
   ]
  },
  {
   "cell_type": "code",
   "execution_count": null,
   "metadata": {},
   "outputs": [],
   "source": [
    "def plot_to_image(figure):\n",
    "    buf = io.BytesIO()\n",
    "    plt.savefig(buf, format='png')\n",
    "    plt.close(figure)\n",
    "    buf.seek(0)\n",
    "    image = tf.image.decode_png(buf.getvalue(), channels=4)\n",
    "    image = tf.expand_dims(image, 0)\n",
    "    return image\n",
    "\n",
    "def image(c, x):\n",
    "    from pylab import annotate\n",
    "    from mpl_toolkits.axes_grid1 import make_axes_locatable\n",
    "    figure = plt.figure(figsize=(30,10))\n",
    "    ax_coeff = plt.subplot(1, 2, 1, title='Contribution coefficient')\n",
    "    plt.xlabel('T, time')\n",
    "    plt.yticks([])\n",
    "    im = plt.imshow(c.T, cmap='hot')\n",
    "    ax_coeff.set_aspect(4)\n",
    "    # add labels\n",
    "    for j in range(c.shape[1]):\n",
    "        annotate('label %d' % j, xy=(0, j), xytext=(-9, j), fontsize=10)\n",
    "\n",
    "    plt.colorbar(im,fraction=0.026, pad=0.04)\n",
    "        \n",
    "    ax_contrib = plt.subplot(1, 2, 2, title='Total contribution')\n",
    "    plt.xlabel('T, time')\n",
    "    plt.yticks([])\n",
    "    im = plt.imshow((c * x).T, cmap='hot')\n",
    "    ax_contrib.set_aspect(4)\n",
    "    # add labels\n",
    "    for j in range(c.shape[1]):\n",
    "        annotate('label %d' % j, xy=(0, j), xytext=(-9, j), fontsize=10)\n",
    "\n",
    "#     divider = make_axes_locatable(figure.axes[0])\n",
    "#     cax = divider.append_axes(\"right\", size=\"5%\", pad=0.05)\n",
    "    plt.colorbar(im,fraction=0.026, pad=0.04)\n",
    "    return figure\n",
    "\n",
    "def save_images(C, xp, writer):\n",
    "    with writer.as_default():\n",
    "        for i,(c,x) in enumerate(zip(C, xp)):\n",
    "            img = image(c,x)\n",
    "            tf.summary.image('datapoint : %d' %i, plot_to_image(img), step=0)"
   ]
  },
  {
   "cell_type": "code",
   "execution_count": null,
   "metadata": {},
   "outputs": [],
   "source": [
    "save_images(contribution[:30], xp[:30], file_writer)"
   ]
  },
  {
   "cell_type": "code",
   "execution_count": null,
   "metadata": {},
   "outputs": [],
   "source": [
    "_ = image(np.random.random((90,13)), np.random.random((90,13)))"
   ]
  },
  {
   "cell_type": "code",
   "execution_count": null,
   "metadata": {},
   "outputs": [],
   "source": [
    "not 'v1' in tf.version.GIT_VERSION"
   ]
  },
  {
   "cell_type": "code",
   "execution_count": null,
   "metadata": {},
   "outputs": [],
   "source": []
  }
 ],
 "metadata": {
  "kernelspec": {
   "display_name": "Python 3",
   "language": "python",
   "name": "python3"
  },
  "language_info": {
   "codemirror_mode": {
    "name": "ipython",
    "version": 3
   },
   "file_extension": ".py",
   "mimetype": "text/x-python",
   "name": "python",
   "nbconvert_exporter": "python",
   "pygments_lexer": "ipython3",
   "version": "3.6.8"
  }
 },
 "nbformat": 4,
 "nbformat_minor": 2
}
