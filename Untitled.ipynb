{
 "cells": [
  {
   "cell_type": "code",
   "execution_count": 1,
   "metadata": {},
   "outputs": [],
   "source": [
    "import tensorflow as tf\n",
    "import tensorflow.keras as keras\n",
    "import numpy as np\n",
    "import json\n",
    "import argparse\n",
    "\n",
    "import model as module_arch\n",
    "import model.loss as module_loss\n",
    "import model.metric as module_metric\n",
    "import model.callback as module_callback\n",
    "import dataloader as module_data\n",
    "\n",
    "import h5py\n",
    "from IPython.display import Image, display\n",
    "\n",
    "import tensorflow as tf\n",
    "import logging\n",
    "from sklearn.utils import class_weight\n",
    "tf.logging.set_verbosity(tf.logging.ERROR)\n",
    "logging.getLogger('tensorflow').setLevel(logging.ERROR)"
   ]
  },
  {
   "cell_type": "code",
   "execution_count": 2,
   "metadata": {},
   "outputs": [],
   "source": [
    "config = json.load(open(\"config/config_test.json\"))"
   ]
  },
  {
   "cell_type": "code",
   "execution_count": 3,
   "metadata": {},
   "outputs": [],
   "source": [
    "model = getattr(module_arch, config[\"arch\"][\"type\"])(**config[\"arch\"][\"args\"])"
   ]
  },
  {
   "cell_type": "code",
   "execution_count": 3,
   "metadata": {},
   "outputs": [],
   "source": [
    "dataset = getattr(module_data, config[\"dataloader\"][\"type\"])(**config[\"dataloader\"][\"args\"])"
   ]
  },
  {
   "cell_type": "code",
   "execution_count": 5,
   "metadata": {},
   "outputs": [],
   "source": [
    "def get_instance(module, name, config, *args):\n",
    "    return getattr(module, config[name]['type'])(*args, **config[name]['args'])\n",
    "\n",
    "\n",
    "tf.random.set_random_seed(config['seed'])\n",
    "\n",
    "model = get_instance(module_arch, 'arch', config)\n",
    "\n",
    "try:\n",
    "    model.set_loss(get_instance(module_loss, 'loss', config))\n",
    "except:\n",
    "    model.set_loss(config['loss'])\n",
    "\n",
    "for metric in config['metrics']:\n",
    "    try:\n",
    "        model.add_metric(\n",
    "            getattr(module_metric, metric['type'])(model, **metric['args']))\n",
    "    except:\n",
    "        model.add_metric(metric)\n",
    "\n",
    "model.set_optimizer(get_instance(\n",
    "    keras.optimizers, 'optimizer', config))\n",
    "\n",
    "for callback in config['callbacks']:\n",
    "    try:\n",
    "        model.add_callback(get_instance(\n",
    "            keras.callbacks, callback['name'], callback))\n",
    "    except:\n",
    "        model.add_callback(get_instance(\n",
    "            module_callback, callback['name'], callback))\n",
    "\n",
    "#model.set_class_weight([1. / config[\"class_weight\"], 1])\n",
    "keras.backend.get_session().run(tf.global_variables_initializer())\n",
    "\n",
    "model.compile()"
   ]
  },
  {
   "cell_type": "code",
   "execution_count": 6,
   "metadata": {},
   "outputs": [],
   "source": [
    "X,Y = dataset.train"
   ]
  },
  {
   "cell_type": "code",
   "execution_count": 7,
   "metadata": {},
   "outputs": [
    {
     "data": {
      "text/plain": [
       "(26230, 2054, 25)"
      ]
     },
     "execution_count": 7,
     "metadata": {},
     "output_type": "execute_result"
    }
   ],
   "source": [
    "X.shape"
   ]
  },
  {
   "cell_type": "code",
   "execution_count": 8,
   "metadata": {},
   "outputs": [
    {
     "data": {
      "text/plain": [
       "(array([12062]), array([1985]), array([12]))"
      ]
     },
     "execution_count": 8,
     "metadata": {},
     "output_type": "execute_result"
    }
   ],
   "source": [
    "np.where(np.isnan(X))"
   ]
  },
  {
   "cell_type": "code",
   "execution_count": 9,
   "metadata": {},
   "outputs": [],
   "source": [
    "X[12062, 1985,12] = 0"
   ]
  },
  {
   "cell_type": "code",
   "execution_count": 10,
   "metadata": {},
   "outputs": [],
   "source": [
    "ones = np.where(Y[:, -1] == 1)[0]"
   ]
  },
  {
   "cell_type": "code",
   "execution_count": 11,
   "metadata": {},
   "outputs": [
    {
     "data": {
      "text/plain": [
       "(278,)"
      ]
     },
     "execution_count": 11,
     "metadata": {},
     "output_type": "execute_result"
    }
   ],
   "source": [
    "ones.shape"
   ]
  },
  {
   "cell_type": "code",
   "execution_count": 12,
   "metadata": {},
   "outputs": [
    {
     "data": {
      "text/plain": [
       "(26230, 1)"
      ]
     },
     "execution_count": 12,
     "metadata": {},
     "output_type": "execute_result"
    }
   ],
   "source": [
    "Y.shape"
   ]
  },
  {
   "cell_type": "code",
   "execution_count": 14,
   "metadata": {},
   "outputs": [],
   "source": [
    "n_copies = np.int(Y.shape[0] / 2 / ones.shape[0])\n",
    "n_copies = 20"
   ]
  },
  {
   "cell_type": "code",
   "execution_count": 15,
   "metadata": {},
   "outputs": [
    {
     "data": {
      "text/plain": [
       "(5560, 1)"
      ]
     },
     "execution_count": 15,
     "metadata": {},
     "output_type": "execute_result"
    }
   ],
   "source": [
    "ones_more = np.ones((n_copies * ones.shape[0], 1))\n",
    "ones_more.shape"
   ]
  },
  {
   "cell_type": "code",
   "execution_count": 16,
   "metadata": {},
   "outputs": [
    {
     "data": {
      "text/plain": [
       "(31790, 1)"
      ]
     },
     "execution_count": 16,
     "metadata": {},
     "output_type": "execute_result"
    }
   ],
   "source": [
    "extended_Y = np.concatenate([Y, ones_more])\n",
    "extended_Y.shape"
   ]
  },
  {
   "cell_type": "code",
   "execution_count": 17,
   "metadata": {},
   "outputs": [
    {
     "data": {
      "text/plain": [
       "(278, 2054, 25)"
      ]
     },
     "execution_count": 17,
     "metadata": {},
     "output_type": "execute_result"
    }
   ],
   "source": [
    "X_additional = X[ones]\n",
    "X_additional.shape"
   ]
  },
  {
   "cell_type": "code",
   "execution_count": 18,
   "metadata": {},
   "outputs": [
    {
     "data": {
      "text/plain": [
       "(31790, 2054, 25)"
      ]
     },
     "execution_count": 18,
     "metadata": {},
     "output_type": "execute_result"
    }
   ],
   "source": [
    "extended_X = np.concatenate([X, *([X_additional] * n_copies)])\n",
    "extended_X.shape"
   ]
  },
  {
   "cell_type": "code",
   "execution_count": 24,
   "metadata": {},
   "outputs": [],
   "source": [
    "from sklearn.utils import shuffle\n",
    "x, y = shuffle(extended_X, extended_Y, random_state=0)"
   ]
  },
  {
   "cell_type": "code",
   "execution_count": 25,
   "metadata": {},
   "outputs": [],
   "source": [
    "dataset.train = (x, y)\n",
    "\n",
    "dataset.test = dataset.valid"
   ]
  },
  {
   "cell_type": "code",
   "execution_count": 23,
   "metadata": {},
   "outputs": [],
   "source": [
    "del dataset.train"
   ]
  },
  {
   "cell_type": "code",
   "execution_count": 26,
   "metadata": {},
   "outputs": [
    {
     "data": {
      "text/plain": [
       "((31790, 1), (31790, 2054, 25))"
      ]
     },
     "execution_count": 26,
     "metadata": {},
     "output_type": "execute_result"
    }
   ],
   "source": [
    "y.shape, x.shape"
   ]
  },
  {
   "cell_type": "code",
   "execution_count": 27,
   "metadata": {},
   "outputs": [
    {
     "data": {
      "text/plain": [
       "{'name': 'Testing template',\n",
       " 'seed': 3,\n",
       " 'arch': {'type': 'LSTM_one_to_one',\n",
       "  'args': {'n_feat': 25,\n",
       "   'n_lstm': 1,\n",
       "   'lstm_sizes': '[5]',\n",
       "   'fc_sizes': '[512, 32]',\n",
       "   'lstm_dropout': 0.0,\n",
       "   'dropout': 0.05,\n",
       "   'activation': 'sigmoid'}},\n",
       " 'dataloader': {'type': 'GoogleDataset',\n",
       "  'args': {'hdf5_source': '../google_ssd_data/google_ssd_data.hdf5',\n",
       "   'dir': 'google/ssd/full/merged/shifted',\n",
       "   'valid_ratio': 0.15,\n",
       "   'test_ratio': 0.0,\n",
       "   'seed': 2}},\n",
       " 'loss': {'type': 'BCE_weighted', 'args': {'class_weight': 10}},\n",
       " 'metrics': ['accuracy', {'type': 'detection_atper_wrapper', 'args': {}}],\n",
       " 'optimizer': {'type': 'Adam',\n",
       "  'args': {'lr': 0.01, 'decay': 0, 'amsgrad': True}},\n",
       " 'callbacks': [{'name': 'TensorBoard logger',\n",
       "   'TensorBoard logger': {'type': 'TrainValTensorBoard',\n",
       "    'args': {'log_dir': 'log/LSTM25/visualization/', 'write_graph': True}}},\n",
       "  {'name': 'Model saver',\n",
       "   'Model saver': {'type': 'ModelCheckpoint',\n",
       "    'args': {'filepath': 'log/LSTM25/weights.{epoch:03d}-{val_detection_atper:.2f}.hdf5',\n",
       "     'monitor': 'val_detection_atper',\n",
       "     'save_best_only': False,\n",
       "     'period': 1,\n",
       "     'save_weights_only': True}}},\n",
       "  {'name': 'Model saver best',\n",
       "   'Model saver best': {'type': 'ModelCheckpoint',\n",
       "    'args': {'filepath': 'log/LSTM25/weights.{epoch:03d}-{val_detection_atper:.2f}.hdf5',\n",
       "     'monitor': 'val_detection_atper',\n",
       "     'save_best_only': True,\n",
       "     'period': 1,\n",
       "     'save_weights_only': True}}},\n",
       "  {'name': 'Reduce learning rate',\n",
       "   'Reduce learning rate': {'type': 'ReduceLROnPlateau',\n",
       "    'args': {'monitor': 'val_detection_atper',\n",
       "     'factor': 0.3,\n",
       "     'patience': 20,\n",
       "     'verbose': 1,\n",
       "     'mode': 'max',\n",
       "     'min_lr': 1e-07}}},\n",
       "  {'name': 'early stop callback',\n",
       "   'early stop callback': {'type': 'EarlyStopping',\n",
       "    'args': {'monitor': 'val_loss', 'patience': 50, 'mode': 'max'}}},\n",
       "  {'name': 'Detection rate metric',\n",
       "   'Detection rate metric': {'type': 'ROC_metric',\n",
       "    'args': {'min_FN': 0.001,\n",
       "     'max_FN': 0.04,\n",
       "     'n_step': 100,\n",
       "     'log_dir': 'log/LSTM25/visualization/',\n",
       "     'target_far': 0.01,\n",
       "     'max_iter': 10}}}],\n",
       " 'trainer': {'epochs': 500, 'verbose': 1, 'batch_size': 256}}"
      ]
     },
     "execution_count": 27,
     "metadata": {},
     "output_type": "execute_result"
    }
   ],
   "source": [
    "config"
   ]
  },
  {
   "cell_type": "code",
   "execution_count": null,
   "metadata": {
    "scrolled": true
   },
   "outputs": [
    {
     "name": "stdout",
     "output_type": "stream",
     "text": [
      "Train on 31790 samples, validate on 4628 samples\n",
      "Epoch 1/500\n",
      "31790/31790 [==============================] - 295s 9ms/step - loss: 0.9221 - acc: 0.8161 - detection_atper: 0.0444 - val_loss: 0.2492 - val_acc: 0.9903 - val_detection_atper: 0.0444\n",
      "Epoch 2/500\n",
      "31790/31790 [==============================] - 257s 8ms/step - loss: 0.8890 - acc: 0.8164 - detection_atper: 1.0000 - val_loss: 0.2558 - val_acc: 0.9903 - val_detection_atper: 1.0000\n",
      "Epoch 3/500\n",
      "31790/31790 [==============================] - 261s 8ms/step - loss: 0.8886 - acc: 0.8164 - detection_atper: 0.0000e+00 - val_loss: 0.2527 - val_acc: 0.9903 - val_detection_atper: 0.0000e+00\n",
      "Epoch 4/500\n",
      "31790/31790 [==============================] - 261s 8ms/step - loss: 0.8884 - acc: 0.8164 - detection_atper: 0.0000e+00 - val_loss: 0.2506 - val_acc: 0.9903 - val_detection_atper: 0.0000e+00\n",
      "Epoch 5/500\n",
      "31790/31790 [==============================] - 263s 8ms/step - loss: 0.8892 - acc: 0.8164 - detection_atper: 1.0000 - val_loss: 0.2480 - val_acc: 0.9903 - val_detection_atper: 1.0000\n",
      "Epoch 6/500\n",
      "31790/31790 [==============================] - 262s 8ms/step - loss: 0.8885 - acc: 0.8164 - detection_atper: 1.0000 - val_loss: 0.2523 - val_acc: 0.9903 - val_detection_atper: 1.0000\n",
      "Epoch 7/500\n",
      "31790/31790 [==============================] - 262s 8ms/step - loss: 0.8885 - acc: 0.8164 - detection_atper: 1.0000 - val_loss: 0.2654 - val_acc: 0.9903 - val_detection_atper: 1.0000\n",
      "Epoch 8/500\n",
      "31790/31790 [==============================] - 261s 8ms/step - loss: 0.8871 - acc: 0.8164 - detection_atper: 0.0000e+00 - val_loss: 0.2343 - val_acc: 0.9903 - val_detection_atper: 0.0000e+00\n",
      "Epoch 9/500\n",
      "31790/31790 [==============================] - 259s 8ms/step - loss: 0.8872 - acc: 0.8164 - detection_atper: 0.0000e+00 - val_loss: 0.2541 - val_acc: 0.9903 - val_detection_atper: 0.0000e+00\n",
      "Epoch 10/500\n",
      "31790/31790 [==============================] - 259s 8ms/step - loss: 0.8874 - acc: 0.8164 - detection_atper: 0.0000e+00 - val_loss: 0.2493 - val_acc: 0.9903 - val_detection_atper: 0.0000e+00\n",
      "Epoch 11/500\n",
      "31790/31790 [==============================] - 261s 8ms/step - loss: 0.8878 - acc: 0.8164 - detection_atper: 1.0000 - val_loss: 0.2687 - val_acc: 0.9903 - val_detection_atper: 1.0000\n",
      "Epoch 12/500\n",
      "31790/31790 [==============================] - 262s 8ms/step - loss: 0.8876 - acc: 0.8164 - detection_atper: 1.0000 - val_loss: 0.2419 - val_acc: 0.9903 - val_detection_atper: 1.0000\n",
      "Epoch 13/500\n",
      "31790/31790 [==============================] - 264s 8ms/step - loss: 0.8877 - acc: 0.8164 - detection_atper: 1.0000 - val_loss: 0.2683 - val_acc: 0.9903 - val_detection_atper: 1.0000\n",
      "Epoch 14/500\n",
      "31790/31790 [==============================] - 260s 8ms/step - loss: 0.8875 - acc: 0.8164 - detection_atper: 1.0000 - val_loss: 0.2683 - val_acc: 0.9903 - val_detection_atper: 1.0000\n",
      "Epoch 15/500\n",
      "31790/31790 [==============================] - 263s 8ms/step - loss: 0.8878 - acc: 0.8164 - detection_atper: 1.0000 - val_loss: 0.2513 - val_acc: 0.9903 - val_detection_atper: 1.0000\n",
      "Epoch 16/500\n",
      "31790/31790 [==============================] - 261s 8ms/step - loss: 0.8878 - acc: 0.8164 - detection_atper: 1.0000 - val_loss: 0.2580 - val_acc: 0.9903 - val_detection_atper: 1.0000\n",
      "Epoch 17/500\n",
      "31790/31790 [==============================] - 262s 8ms/step - loss: 0.8870 - acc: 0.8164 - detection_atper: 1.0000 - val_loss: 0.2601 - val_acc: 0.9903 - val_detection_atper: 1.0000\n",
      "Epoch 18/500\n",
      "31790/31790 [==============================] - 261s 8ms/step - loss: 0.8861 - acc: 0.8164 - detection_atper: 1.0000 - val_loss: 0.2601 - val_acc: 0.9903 - val_detection_atper: 1.0000\n",
      "Epoch 19/500\n",
      "31790/31790 [==============================] - 262s 8ms/step - loss: 0.8875 - acc: 0.8164 - detection_atper: 1.0000 - val_loss: 0.2551 - val_acc: 0.9903 - val_detection_atper: 1.0000\n",
      "Epoch 20/500\n",
      "31790/31790 [==============================] - 260s 8ms/step - loss: 0.8864 - acc: 0.8164 - detection_atper: 0.0000e+00 - val_loss: 0.2340 - val_acc: 0.9903 - val_detection_atper: 0.0000e+00\n",
      "Epoch 21/500\n",
      "31790/31790 [==============================] - 259s 8ms/step - loss: 0.8865 - acc: 0.8164 - detection_atper: 0.0000e+00 - val_loss: 0.2594 - val_acc: 0.9903 - val_detection_atper: 0.0000e+00\n",
      "Epoch 22/500\n",
      "31744/31790 [============================>.] - ETA: 0s - loss: 0.8865 - acc: 0.8164 - detection_atper: 1.0000\n",
      "Epoch 00022: ReduceLROnPlateau reducing learning rate to 0.0029999999329447745.\n",
      "31790/31790 [==============================] - 270s 8ms/step - loss: 0.8867 - acc: 0.8164 - detection_atper: 1.0000 - val_loss: 0.2308 - val_acc: 0.9903 - val_detection_atper: 1.0000\n",
      "Epoch 23/500\n",
      "31790/31790 [==============================] - 263s 8ms/step - loss: 0.8866 - acc: 0.8164 - detection_atper: 1.0000 - val_loss: 0.2554 - val_acc: 0.9903 - val_detection_atper: 1.0000\n",
      "Epoch 24/500\n",
      "31790/31790 [==============================] - 262s 8ms/step - loss: 0.8867 - acc: 0.8164 - detection_atper: 0.0000e+00 - val_loss: 0.2586 - val_acc: 0.9903 - val_detection_atper: 0.0000e+00\n",
      "Epoch 25/500\n",
      "31790/31790 [==============================] - 260s 8ms/step - loss: 0.8865 - acc: 0.8164 - detection_atper: 1.0000 - val_loss: 0.2607 - val_acc: 0.9903 - val_detection_atper: 1.0000\n",
      "Epoch 26/500\n",
      "31790/31790 [==============================] - 266s 8ms/step - loss: 0.8856 - acc: 0.8164 - detection_atper: 1.0000 - val_loss: 0.2507 - val_acc: 0.9903 - val_detection_atper: 1.0000\n",
      "Epoch 27/500\n",
      "31790/31790 [==============================] - 262s 8ms/step - loss: 0.8860 - acc: 0.8164 - detection_atper: 1.0000 - val_loss: 0.2644 - val_acc: 0.9903 - val_detection_atper: 1.0000\n",
      "Epoch 28/500\n",
      "31790/31790 [==============================] - 261s 8ms/step - loss: 0.8863 - acc: 0.8164 - detection_atper: 0.0000e+00 - val_loss: 0.2469 - val_acc: 0.9903 - val_detection_atper: 0.0000e+00\n",
      "Epoch 29/500\n",
      "31790/31790 [==============================] - 261s 8ms/step - loss: 0.8856 - acc: 0.8164 - detection_atper: 0.0000e+00 - val_loss: 0.2503 - val_acc: 0.9903 - val_detection_atper: 0.0000e+00\n",
      "Epoch 30/500\n",
      "31790/31790 [==============================] - 261s 8ms/step - loss: 0.8864 - acc: 0.8164 - detection_atper: 1.0000 - val_loss: 0.2577 - val_acc: 0.9903 - val_detection_atper: 1.0000\n",
      "Epoch 31/500\n",
      "31790/31790 [==============================] - 263s 8ms/step - loss: 0.8854 - acc: 0.8164 - detection_atper: 1.0000 - val_loss: 0.2525 - val_acc: 0.9903 - val_detection_atper: 1.0000\n",
      "Epoch 32/500\n",
      "31790/31790 [==============================] - 262s 8ms/step - loss: 0.8856 - acc: 0.8164 - detection_atper: 0.0000e+00 - val_loss: 0.2532 - val_acc: 0.9903 - val_detection_atper: 0.0000e+00\n",
      "Epoch 33/500\n",
      "31790/31790 [==============================] - 260s 8ms/step - loss: 0.8858 - acc: 0.8164 - detection_atper: 0.0000e+00 - val_loss: 0.2492 - val_acc: 0.9903 - val_detection_atper: 0.0000e+00\n",
      "Epoch 34/500\n",
      "31790/31790 [==============================] - 264s 8ms/step - loss: 0.8852 - acc: 0.8164 - detection_atper: 1.0000 - val_loss: 0.2647 - val_acc: 0.9903 - val_detection_atper: 1.0000\n",
      "Epoch 35/500\n",
      "31790/31790 [==============================] - 258s 8ms/step - loss: 0.8857 - acc: 0.8164 - detection_atper: 0.0000e+00 - val_loss: 0.2652 - val_acc: 0.9903 - val_detection_atper: 0.0000e+00\n",
      "Epoch 36/500\n",
      "31790/31790 [==============================] - 259s 8ms/step - loss: 0.8857 - acc: 0.8164 - detection_atper: 0.0000e+00 - val_loss: 0.2656 - val_acc: 0.9903 - val_detection_atper: 0.0000e+00\n",
      "Epoch 37/500\n",
      "31790/31790 [==============================] - 260s 8ms/step - loss: 0.8861 - acc: 0.8164 - detection_atper: 0.0000e+00 - val_loss: 0.2610 - val_acc: 0.9903 - val_detection_atper: 0.0000e+00\n",
      "Epoch 38/500\n",
      "31790/31790 [==============================] - 259s 8ms/step - loss: 0.8865 - acc: 0.8164 - detection_atper: 1.0000 - val_loss: 0.2701 - val_acc: 0.9903 - val_detection_atper: 1.0000\n",
      "Epoch 39/500\n",
      "31790/31790 [==============================] - 260s 8ms/step - loss: 0.8849 - acc: 0.8164 - detection_atper: 1.0000 - val_loss: 0.2443 - val_acc: 0.9903 - val_detection_atper: 1.0000\n",
      "Epoch 40/500\n",
      "31790/31790 [==============================] - 259s 8ms/step - loss: 0.8865 - acc: 0.8164 - detection_atper: 0.0000e+00 - val_loss: 0.2691 - val_acc: 0.9903 - val_detection_atper: 0.0000e+00\n"
     ]
    },
    {
     "name": "stdout",
     "output_type": "stream",
     "text": [
      "Epoch 41/500\n",
      "31790/31790 [==============================] - 262s 8ms/step - loss: 0.8857 - acc: 0.8164 - detection_atper: 1.0000 - val_loss: 0.2424 - val_acc: 0.9903 - val_detection_atper: 1.0000\n",
      "Epoch 42/500\n",
      "31744/31790 [============================>.] - ETA: 0s - loss: 0.8854 - acc: 0.8164 - detection_atper: 1.0000\n",
      "Epoch 00042: ReduceLROnPlateau reducing learning rate to 0.0009000000078231095.\n",
      "31790/31790 [==============================] - 262s 8ms/step - loss: 0.8854 - acc: 0.8164 - detection_atper: 1.0000 - val_loss: 0.2781 - val_acc: 0.9903 - val_detection_atper: 1.0000\n",
      "Epoch 43/500\n",
      "31790/31790 [==============================] - 261s 8ms/step - loss: 0.8860 - acc: 0.8164 - detection_atper: 1.0000 - val_loss: 0.2560 - val_acc: 0.9903 - val_detection_atper: 1.0000\n",
      "Epoch 44/500\n",
      "31790/31790 [==============================] - 259s 8ms/step - loss: 0.8867 - acc: 0.8164 - detection_atper: 0.0000e+00 - val_loss: 0.2605 - val_acc: 0.9903 - val_detection_atper: 0.0000e+00\n",
      "Epoch 45/500\n",
      "31790/31790 [==============================] - 260s 8ms/step - loss: 0.8853 - acc: 0.8164 - detection_atper: 1.0000 - val_loss: 0.2519 - val_acc: 0.9903 - val_detection_atper: 1.0000\n",
      "Epoch 46/500\n",
      "31790/31790 [==============================] - 263s 8ms/step - loss: 0.8853 - acc: 0.8164 - detection_atper: 1.0000 - val_loss: 0.2624 - val_acc: 0.9903 - val_detection_atper: 1.0000\n",
      "Epoch 47/500\n",
      "31790/31790 [==============================] - 261s 8ms/step - loss: 0.8856 - acc: 0.8164 - detection_atper: 0.0000e+00 - val_loss: 0.2617 - val_acc: 0.9903 - val_detection_atper: 0.0000e+00\n",
      "Epoch 48/500\n",
      "31790/31790 [==============================] - 260s 8ms/step - loss: 0.8863 - acc: 0.8164 - detection_atper: 1.0000 - val_loss: 0.2615 - val_acc: 0.9903 - val_detection_atper: 1.0000\n",
      "Epoch 49/500\n",
      "31790/31790 [==============================] - 262s 8ms/step - loss: 0.8856 - acc: 0.8164 - detection_atper: 1.0000 - val_loss: 0.2518 - val_acc: 0.9903 - val_detection_atper: 1.0000\n",
      "Epoch 50/500\n",
      "31790/31790 [==============================] - 264s 8ms/step - loss: 0.8855 - acc: 0.8164 - detection_atper: 1.0000 - val_loss: 0.2504 - val_acc: 0.9903 - val_detection_atper: 1.0000\n",
      "Epoch 51/500\n",
      "31790/31790 [==============================] - 261s 8ms/step - loss: 0.8859 - acc: 0.8164 - detection_atper: 1.0000 - val_loss: 0.2541 - val_acc: 0.9903 - val_detection_atper: 1.0000\n",
      "Epoch 52/500\n",
      "31790/31790 [==============================] - 261s 8ms/step - loss: 0.8863 - acc: 0.8164 - detection_atper: 0.0000e+00 - val_loss: 0.2624 - val_acc: 0.9903 - val_detection_atper: 0.0000e+00\n",
      "Epoch 53/500\n",
      "31790/31790 [==============================] - 262s 8ms/step - loss: 0.8856 - acc: 0.8164 - detection_atper: 0.0000e+00 - val_loss: 0.2655 - val_acc: 0.9903 - val_detection_atper: 0.0000e+00\n",
      "Epoch 54/500\n",
      "31790/31790 [==============================] - 263s 8ms/step - loss: 0.8873 - acc: 0.8164 - detection_atper: 0.0000e+00 - val_loss: 0.2603 - val_acc: 0.9903 - val_detection_atper: 0.0000e+00\n",
      "Epoch 55/500\n",
      "31790/31790 [==============================] - 261s 8ms/step - loss: 0.8856 - acc: 0.8164 - detection_atper: 1.0000 - val_loss: 0.2597 - val_acc: 0.9903 - val_detection_atper: 1.0000\n",
      "Epoch 56/500\n",
      "31790/31790 [==============================] - 261s 8ms/step - loss: 0.8855 - acc: 0.8164 - detection_atper: 1.0000 - val_loss: 0.2513 - val_acc: 0.9903 - val_detection_atper: 1.0000\n",
      "Epoch 57/500\n",
      "31790/31790 [==============================] - 262s 8ms/step - loss: 0.8857 - acc: 0.8164 - detection_atper: 1.0000 - val_loss: 0.2536 - val_acc: 0.9903 - val_detection_atper: 1.0000\n",
      "Epoch 58/500\n",
      "31790/31790 [==============================] - 259s 8ms/step - loss: 0.8850 - acc: 0.8164 - detection_atper: 0.0000e+00 - val_loss: 0.2551 - val_acc: 0.9903 - val_detection_atper: 0.0000e+00\n",
      "Epoch 59/500\n",
      "31790/31790 [==============================] - 259s 8ms/step - loss: 0.8856 - acc: 0.8164 - detection_atper: 0.0000e+00 - val_loss: 0.2528 - val_acc: 0.9903 - val_detection_atper: 0.0000e+00\n",
      "Epoch 60/500\n",
      "31790/31790 [==============================] - 260s 8ms/step - loss: 0.8861 - acc: 0.8164 - detection_atper: 0.0000e+00 - val_loss: 0.2535 - val_acc: 0.9903 - val_detection_atper: 0.0000e+00\n",
      "Epoch 61/500\n",
      "31790/31790 [==============================] - 260s 8ms/step - loss: 0.8858 - acc: 0.8164 - detection_atper: 0.0000e+00 - val_loss: 0.2577 - val_acc: 0.9903 - val_detection_atper: 0.0000e+00\n",
      "Epoch 62/500\n",
      "31744/31790 [============================>.] - ETA: 0s - loss: 0.8866 - acc: 0.8162 - detection_atper: 1.0000\n",
      "Epoch 00062: ReduceLROnPlateau reducing learning rate to 0.00026999999536201356.\n",
      "31790/31790 [==============================] - 261s 8ms/step - loss: 0.8862 - acc: 0.8164 - detection_atper: 1.0000 - val_loss: 0.2601 - val_acc: 0.9903 - val_detection_atper: 1.0000\n",
      "Epoch 63/500\n",
      "31790/31790 [==============================] - 262s 8ms/step - loss: 0.8859 - acc: 0.8164 - detection_atper: 1.0000 - val_loss: 0.2555 - val_acc: 0.9903 - val_detection_atper: 1.0000\n",
      "Epoch 64/500\n",
      "31790/31790 [==============================] - 259s 8ms/step - loss: 0.8857 - acc: 0.8164 - detection_atper: 0.0000e+00 - val_loss: 0.2560 - val_acc: 0.9903 - val_detection_atper: 0.0000e+00\n",
      "Epoch 65/500\n",
      "31790/31790 [==============================] - 258s 8ms/step - loss: 0.8866 - acc: 0.8164 - detection_atper: 0.0000e+00 - val_loss: 0.2560 - val_acc: 0.9903 - val_detection_atper: 0.0000e+00\n",
      "Epoch 66/500\n",
      "31790/31790 [==============================] - 260s 8ms/step - loss: 0.8857 - acc: 0.8164 - detection_atper: 0.0000e+00 - val_loss: 0.2574 - val_acc: 0.9903 - val_detection_atper: 0.0000e+00\n",
      "Epoch 67/500\n",
      "31790/31790 [==============================] - 260s 8ms/step - loss: 0.8868 - acc: 0.8164 - detection_atper: 1.0000 - val_loss: 0.2561 - val_acc: 0.9903 - val_detection_atper: 1.0000\n",
      "Epoch 68/500\n",
      "31790/31790 [==============================] - 260s 8ms/step - loss: 0.8864 - acc: 0.8164 - detection_atper: 0.0000e+00 - val_loss: 0.2571 - val_acc: 0.9903 - val_detection_atper: 0.0000e+00\n",
      "Epoch 69/500\n",
      "31790/31790 [==============================] - 262s 8ms/step - loss: 0.8863 - acc: 0.8164 - detection_atper: 0.0000e+00 - val_loss: 0.2566 - val_acc: 0.9903 - val_detection_atper: 0.0000e+00\n",
      "Epoch 70/500\n",
      "31790/31790 [==============================] - 261s 8ms/step - loss: 0.8852 - acc: 0.8164 - detection_atper: 0.0000e+00 - val_loss: 0.2586 - val_acc: 0.9903 - val_detection_atper: 0.0000e+00\n",
      "Epoch 71/500\n",
      "31790/31790 [==============================] - 261s 8ms/step - loss: 0.8857 - acc: 0.8164 - detection_atper: 1.0000 - val_loss: 0.2539 - val_acc: 0.9903 - val_detection_atper: 1.0000\n",
      "Epoch 72/500\n",
      "31790/31790 [==============================] - 261s 8ms/step - loss: 0.8857 - acc: 0.8164 - detection_atper: 0.0000e+00 - val_loss: 0.2546 - val_acc: 0.9903 - val_detection_atper: 0.0000e+00\n",
      "Epoch 73/500\n",
      "31790/31790 [==============================] - 258s 8ms/step - loss: 0.8854 - acc: 0.8164 - detection_atper: 0.0000e+00 - val_loss: 0.2575 - val_acc: 0.9903 - val_detection_atper: 0.0000e+00\n",
      "Epoch 74/500\n",
      "31790/31790 [==============================] - 264s 8ms/step - loss: 0.8852 - acc: 0.8164 - detection_atper: 1.0000 - val_loss: 0.2553 - val_acc: 0.9903 - val_detection_atper: 1.0000\n",
      "Epoch 75/500\n",
      "31744/31790 [============================>.] - ETA: 0s - loss: 0.8861 - acc: 0.8163 - detection_atper: 0.0000e+00"
     ]
    }
   ],
   "source": [
    "history = model.train(dataset.train,\n",
    "                          dataset.valid,\n",
    "                          dataset.valid,\n",
    "                          **config[\"trainer\"])"
   ]
  },
  {
   "cell_type": "code",
   "execution_count": 31,
   "metadata": {},
   "outputs": [],
   "source": [
    "plot = 'log/LSTM25/visualization/ROC/ROC_plot.png'"
   ]
  },
  {
   "cell_type": "code",
   "execution_count": 32,
   "metadata": {},
   "outputs": [
    {
     "data": {
      "image/png": "[encoded data removed]",
      "text/plain": [
       "<IPython.core.display.Image object>"
      ]
     },
     "metadata": {},
     "output_type": "display_data"
    }
   ],
   "source": [
    "display(Image(filename=plot))"
   ]
  },
  {
   "cell_type": "code",
   "execution_count": 25,
   "metadata": {},
   "outputs": [
    {
     "data": {
      "text/plain": [
       "<tensorflow.python.training.checkpointable.util.CheckpointLoadStatus at 0x7f0cb93a2940>"
      ]
     },
     "execution_count": 25,
     "metadata": {},
     "output_type": "execute_result"
    }
   ],
   "source": [
    "config = json.load(open(\"config/config_test.json\"))\n",
    "model = getattr(module_arch, config[\"arch\"][\"type\"])(**config[\"arch\"][\"args\"])\n",
    "model.model.load_weights(\"./log/LSTM17/weights.005-0.56.hdf5\")"
   ]
  },
  {
   "cell_type": "code",
   "execution_count": 26,
   "metadata": {},
   "outputs": [
    {
     "name": "stdout",
     "output_type": "stream",
     "text": [
      "0.9987280070781708\n"
     ]
    },
    {
     "data": {
      "text/plain": [
       "0.0"
      ]
     },
     "execution_count": 26,
     "metadata": {},
     "output_type": "execute_result"
    }
   ],
   "source": [
    "call = _detection_atper(0.10)\n",
    "y = dataset.valid[1]\n",
    "call(yhat, y)"
   ]
  },
  {
   "cell_type": "code",
   "execution_count": 37,
   "metadata": {},
   "outputs": [],
   "source": [
    "yhat = model.model.predict(dataset.valid[0])"
   ]
  },
  {
   "cell_type": "code",
   "execution_count": 56,
   "metadata": {
    "scrolled": true
   },
   "outputs": [
    {
     "name": "stdout",
     "output_type": "stream",
     "text": [
      "Train on 26230 samples, validate on 4628 samples\n",
      "Epoch 1/500\n",
      "26230/26230 [==============================] - 241s 9ms/step - loss: 0.0816 - acc: 0.9889 - detection_atper: 0.0000e+00 - val_loss: 0.0549 - val_acc: 0.9903 - val_detection_atper: 0.0000e+00\n",
      "Epoch 2/500\n",
      "26230/26230 [==============================] - 230s 9ms/step - loss: 0.0597 - acc: 0.9894 - detection_atper: 1.0000 - val_loss: 0.0547 - val_acc: 0.9903 - val_detection_atper: 1.0000\n",
      "Epoch 3/500\n",
      "26230/26230 [==============================] - 230s 9ms/step - loss: 0.0599 - acc: 0.9894 - detection_atper: 1.0000 - val_loss: 0.0547 - val_acc: 0.9903 - val_detection_atper: 1.0000\n",
      "Epoch 4/500\n",
      "26230/26230 [==============================] - 229s 9ms/step - loss: 0.0593 - acc: 0.9894 - detection_atper: 1.0000 - val_loss: 0.0547 - val_acc: 0.9903 - val_detection_atper: 1.0000\n",
      "Epoch 5/500\n",
      "26230/26230 [==============================] - 231s 9ms/step - loss: 0.0594 - acc: 0.9894 - detection_atper: 1.0000 - val_loss: 0.0543 - val_acc: 0.9903 - val_detection_atper: 1.0000\n",
      "Epoch 6/500\n",
      "26230/26230 [==============================] - 229s 9ms/step - loss: 0.0570 - acc: 0.9894 - detection_atper: 0.0444 - val_loss: 0.0495 - val_acc: 0.9903 - val_detection_atper: 0.0444\n",
      "Epoch 7/500\n",
      "26112/26230 [============================>.] - ETA: 0s - loss: 0.0483 - acc: 0.9895 - detection_atper: 0.2444\n",
      "Epoch 00007: ReduceLROnPlateau reducing learning rate to 0.0003000000142492354.\n",
      "26230/26230 [==============================] - 235s 9ms/step - loss: 0.0486 - acc: 0.9894 - detection_atper: 0.2444 - val_loss: 0.0461 - val_acc: 0.9903 - val_detection_atper: 0.2444\n",
      "Epoch 8/500\n",
      "26230/26230 [==============================] - 228s 9ms/step - loss: 0.0445 - acc: 0.9894 - detection_atper: 0.3111 - val_loss: 0.0445 - val_acc: 0.9903 - val_detection_atper: 0.3111\n",
      "Epoch 9/500\n",
      "26230/26230 [==============================] - 227s 9ms/step - loss: 0.0435 - acc: 0.9894 - detection_atper: 0.3111 - val_loss: 0.0441 - val_acc: 0.9903 - val_detection_atper: 0.3111\n",
      "Epoch 10/500\n",
      "26230/26230 [==============================] - 229s 9ms/step - loss: 0.0426 - acc: 0.9894 - detection_atper: 0.3111 - val_loss: 0.0433 - val_acc: 0.9903 - val_detection_atper: 0.3111\n",
      "Epoch 11/500\n",
      "26230/26230 [==============================] - 227s 9ms/step - loss: 0.0414 - acc: 0.9894 - detection_atper: 0.3333 - val_loss: 0.0434 - val_acc: 0.9903 - val_detection_atper: 0.3333\n",
      "Epoch 12/500\n",
      "26112/26230 [============================>.] - ETA: 0s - loss: 0.0415 - acc: 0.9894 - detection_atper: 0.3333\n",
      "Epoch 00012: ReduceLROnPlateau reducing learning rate to 9.000000427477062e-05.\n",
      "26230/26230 [==============================] - 231s 9ms/step - loss: 0.0414 - acc: 0.9894 - detection_atper: 0.3333 - val_loss: 0.0433 - val_acc: 0.9903 - val_detection_atper: 0.3333\n",
      "Epoch 13/500\n",
      "26230/26230 [==============================] - 230s 9ms/step - loss: 0.0402 - acc: 0.9894 - detection_atper: 0.3111 - val_loss: 0.0428 - val_acc: 0.9903 - val_detection_atper: 0.3111\n",
      "Epoch 14/500\n",
      "26230/26230 [==============================] - 230s 9ms/step - loss: 0.0401 - acc: 0.9895 - detection_atper: 0.3111 - val_loss: 0.0424 - val_acc: 0.9903 - val_detection_atper: 0.3111\n",
      "Epoch 15/500\n",
      "26230/26230 [==============================] - 228s 9ms/step - loss: 0.0402 - acc: 0.9894 - detection_atper: 0.3333 - val_loss: 0.0424 - val_acc: 0.9903 - val_detection_atper: 0.3333\n",
      "Epoch 16/500\n",
      "26230/26230 [==============================] - 230s 9ms/step - loss: 0.0402 - acc: 0.9896 - detection_atper: 0.3333 - val_loss: 0.0421 - val_acc: 0.9903 - val_detection_atper: 0.3333\n",
      "Epoch 17/500\n",
      "26112/26230 [============================>.] - ETA: 0s - loss: 0.0397 - acc: 0.9895 - detection_atper: 0.3333\n",
      "Epoch 00017: ReduceLROnPlateau reducing learning rate to 2.700000040931627e-05.\n",
      "26230/26230 [==============================] - 230s 9ms/step - loss: 0.0398 - acc: 0.9895 - detection_atper: 0.3333 - val_loss: 0.0424 - val_acc: 0.9903 - val_detection_atper: 0.3333\n",
      "Epoch 18/500\n",
      "26230/26230 [==============================] - 228s 9ms/step - loss: 0.0394 - acc: 0.9895 - detection_atper: 0.3111 - val_loss: 0.0423 - val_acc: 0.9903 - val_detection_atper: 0.3111\n",
      "Epoch 19/500\n",
      "26230/26230 [==============================] - 230s 9ms/step - loss: 0.0394 - acc: 0.9897 - detection_atper: 0.3111 - val_loss: 0.0423 - val_acc: 0.9903 - val_detection_atper: 0.3111\n",
      "Epoch 20/500\n",
      "26230/26230 [==============================] - 230s 9ms/step - loss: 0.0392 - acc: 0.9895 - detection_atper: 0.3111 - val_loss: 0.0423 - val_acc: 0.9903 - val_detection_atper: 0.3111\n",
      "Epoch 21/500\n",
      "26230/26230 [==============================] - 227s 9ms/step - loss: 0.0397 - acc: 0.9896 - detection_atper: 0.3333 - val_loss: 0.0423 - val_acc: 0.9903 - val_detection_atper: 0.3333\n",
      "Epoch 22/500\n",
      "26112/26230 [============================>.] - ETA: 0s - loss: 0.0393 - acc: 0.9895 - detection_atper: 0.3111\n",
      "Epoch 00022: ReduceLROnPlateau reducing learning rate to 8.100000013655517e-06.\n",
      "26230/26230 [==============================] - 228s 9ms/step - loss: 0.0394 - acc: 0.9896 - detection_atper: 0.3111 - val_loss: 0.0422 - val_acc: 0.9903 - val_detection_atper: 0.3111\n"
     ]
    }
   ],
   "source": [
    "history = model.train(dataset.train,\n",
    "                          dataset.valid,\n",
    "                          dataset.valid,\n",
    "                          **config[\"trainer\"])"
   ]
  },
  {
   "cell_type": "code",
   "execution_count": 57,
   "metadata": {},
   "outputs": [],
   "source": [
    "yhat = model.model.predict(dataset.valid[0])"
   ]
  },
  {
   "cell_type": "code",
   "execution_count": 63,
   "metadata": {},
   "outputs": [
    {
     "data": {
      "image/png": "[encoded data removed]",
      "text/plain": [
       "<IPython.core.display.Image object>"
      ]
     },
     "metadata": {},
     "output_type": "display_data"
    }
   ],
   "source": [
    "display(Image(filename='log/LSTM18/visualization/ROC/ROC_plot.png'))"
   ]
  },
  {
   "cell_type": "code",
   "execution_count": 4,
   "metadata": {},
   "outputs": [
    {
     "data": {
      "text/plain": [
       "<tensorflow.python.training.checkpointable.util.CheckpointLoadStatus at 0x7f7c54588e10>"
      ]
     },
     "execution_count": 4,
     "metadata": {},
     "output_type": "execute_result"
    }
   ],
   "source": [
    "config = json.load(open(\"config/config_test.json\"))\n",
    "model = getattr(module_arch, config[\"arch\"][\"type\"])(**config[\"arch\"][\"args\"])\n",
    "model.model.load_weights(\"log/LSTM17/weights.013-0.38.hdf5\")"
   ]
  },
  {
   "cell_type": "code",
   "execution_count": 5,
   "metadata": {},
   "outputs": [],
   "source": [
    "y = dataset.valid[1]\n",
    "\n",
    "yhat = model.model.predict(dataset.valid[0], batch_size=256)"
   ]
  },
  {
   "cell_type": "code",
   "execution_count": 6,
   "metadata": {},
   "outputs": [
    {
     "data": {
      "text/plain": [
       "(4628, 1)"
      ]
     },
     "execution_count": 6,
     "metadata": {},
     "output_type": "execute_result"
    }
   ],
   "source": [
    "yhat.shape"
   ]
  },
  {
   "cell_type": "code",
   "execution_count": 11,
   "metadata": {},
   "outputs": [],
   "source": [
    "call = _detection_atper(0.05)"
   ]
  },
  {
   "cell_type": "code",
   "execution_count": 12,
   "metadata": {},
   "outputs": [
    {
     "name": "stdout",
     "output_type": "stream",
     "text": [
      "0.014614235144108534\n"
     ]
    },
    {
     "data": {
      "text/plain": [
       "0.5777777777777777"
      ]
     },
     "execution_count": 12,
     "metadata": {},
     "output_type": "execute_result"
    }
   ],
   "source": [
    "call(yhat, y)"
   ]
  },
  {
   "cell_type": "code",
   "execution_count": 13,
   "metadata": {},
   "outputs": [
    {
     "name": "stdout",
     "output_type": "stream",
     "text": [
      "0.75\n",
      "0.5353661477565765\n",
      "0.4583282321691513\n",
      "0.3125\n",
      "0.31523914635181427\n",
      "0.24964258819818497\n",
      "0.20934667438268661\n",
      "0.18007010966539383\n",
      "0.1600116416811943\n",
      "0.11097404733300209\n",
      "0.10340801998972893\n",
      "0.08346850052475929\n",
      "0.07563329115509987\n",
      "0.06940780952572823\n",
      "0.06518588587641716\n",
      "0.058684004470705986\n",
      "0.052994491532444954\n",
      "0.04681533761322498\n",
      "0.04503238759934902\n",
      "0.043485252186656\n",
      "0.040371404960751534\n",
      "0.03936403803527355\n",
      "0.03826303593814373\n",
      "0.034967513754963875\n",
      "0.03190314210951328\n",
      "0.030786345712840557\n",
      "0.02937318477779627\n",
      "0.0278822286054492\n",
      "0.027403813786804676\n",
      "0.026504005305469036\n",
      "0.025327145121991634\n",
      "0.02484130859375\n",
      "0.024344355799257755\n",
      "0.02358728926628828\n",
      "0.022857666015625\n",
      "0.0222390191629529\n",
      "0.021283638663589954\n",
      "0.020792007446289062\n",
      "0.020438295789062977\n",
      "0.01960106659680605\n",
      "0.01939706038683653\n",
      "0.018596000038087368\n",
      "0.018061687238514423\n",
      "0.017591183073818684\n",
      "0.017318191938102245\n",
      "0.016568546183407307\n",
      "0.015752029605209827\n",
      "0.01544643146917224\n",
      "0.014881786424666643\n",
      "0.014614235144108534\n"
     ]
    },
    {
     "data": {
      "text/plain": [
       "[<matplotlib.lines.Line2D at 0x7f7e4f0cc080>]"
      ]
     },
     "execution_count": 13,
     "metadata": {},
     "output_type": "execute_result"
    },
    {
     "data": {
      "image/png": "[encoded data removed]",
      "text/plain": [
       "<Figure size 432x288 with 1 Axes>"
      ]
     },
     "metadata": {
      "needs_background": "light"
     },
     "output_type": "display_data"
    }
   ],
   "source": [
    "import matplotlib.pyplot as plt\n",
    "far_list = np.linspace(0, 5, 50)/100\n",
    "dr_list = np.zeros(len(far_list))\n",
    "    \n",
    "for i, far in enumerate(far_list):\n",
    "    dr_list[i] = _detection_atper(far, max_iter=100)(yhat, y)\n",
    "    \n",
    "plt.plot(100 * far_list, 100 * dr_list)"
   ]
  },
  {
   "cell_type": "code",
   "execution_count": 14,
   "metadata": {},
   "outputs": [],
   "source": [
    "import pickle"
   ]
  },
  {
   "cell_type": "code",
   "execution_count": 16,
   "metadata": {},
   "outputs": [],
   "source": [
    "data = {\"far_list\": 100 * far_list, \"dr_list\": 100 * dr_list}\n",
    "f = open(\"../merged_result.pkl\", \"wb\")\n",
    "pickle.dump(data, f)\n",
    "f.close()"
   ]
  },
  {
   "cell_type": "code",
   "execution_count": 67,
   "metadata": {},
   "outputs": [
    {
     "data": {
      "text/plain": [
       "{'far_list': array([0.        , 0.10344828, 0.20689655, 0.31034483, 0.4137931 ,\n",
       "        0.51724138, 0.62068966, 0.72413793, 0.82758621, 0.93103448,\n",
       "        1.03448276, 1.13793103, 1.24137931, 1.34482759, 1.44827586,\n",
       "        1.55172414, 1.65517241, 1.75862069, 1.86206897, 1.96551724,\n",
       "        2.06896552, 2.17241379, 2.27586207, 2.37931034, 2.48275862,\n",
       "        2.5862069 , 2.68965517, 2.79310345, 2.89655172, 3.        ]),\n",
       " 'dr_list': array([ 0.        ,  4.44444444,  4.44444444,  4.44444444, 13.33333333,\n",
       "        26.66666667, 28.88888889, 31.11111111, 31.11111111, 37.77777778,\n",
       "        37.77777778, 40.        , 40.        , 40.        , 40.        ,\n",
       "        40.        , 40.        , 42.22222222, 42.22222222, 44.44444444,\n",
       "        48.88888889, 48.88888889, 48.88888889, 51.11111111, 51.11111111,\n",
       "        51.11111111, 51.11111111, 51.11111111, 51.11111111, 51.11111111])}"
      ]
     },
     "execution_count": 67,
     "metadata": {},
     "output_type": "execute_result"
    }
   ],
   "source": [
    "r = open(\"../merged_result.pkl\", \"rb\")\n",
    "pickle.load(r)"
   ]
  },
  {
   "cell_type": "code",
   "execution_count": 54,
   "metadata": {
    "scrolled": false
   },
   "outputs": [
    {
     "data": {
      "text/plain": [
       "<matplotlib.collections.PathCollection at 0x7f0a964733c8>"
      ]
     },
     "execution_count": 54,
     "metadata": {},
     "output_type": "execute_result"
    },
    {
     "data": {
      "image/png": "[encoded data removed]",
      "text/plain": [
       "<Figure size 1080x1080 with 1 Axes>"
      ]
     },
     "metadata": {
      "needs_background": "light"
     },
     "output_type": "display_data"
    }
   ],
   "source": [
    "yhat[y == 1].sort()\n",
    "\n",
    "__y = yhat[y== 1]\n",
    "\n",
    "__y.sort()\n",
    "\n",
    "__1y = yhat[y == 0]\n",
    "__1y.sort()\n",
    "\n",
    "import matplotlib.pyplot as plt\n",
    "plt.figure(figsize=(15,15))\n",
    "plt.scatter(__y, np.linspace(0, 1, __y.size))\n",
    "plt.scatter(__1y, np.linspace(0, 1, __1y.size))"
   ]
  },
  {
   "cell_type": "code",
   "execution_count": 23,
   "metadata": {},
   "outputs": [
    {
     "data": {
      "text/plain": [
       "(4628, 32)"
      ]
     },
     "execution_count": 23,
     "metadata": {},
     "output_type": "execute_result"
    }
   ],
   "source": [
    "yhat.shape"
   ]
  },
  {
   "cell_type": "code",
   "execution_count": 52,
   "metadata": {},
   "outputs": [],
   "source": [
    "idx = np.where((yhat > 0.4) & (y == 1))[0]"
   ]
  },
  {
   "cell_type": "code",
   "execution_count": 53,
   "metadata": {},
   "outputs": [
    {
     "data": {
      "text/plain": [
       "array([0.01182926], dtype=float32)"
      ]
     },
     "execution_count": 53,
     "metadata": {},
     "output_type": "execute_result"
    }
   ],
   "source": [
    "yhat[36]"
   ]
  },
  {
   "cell_type": "code",
   "execution_count": 54,
   "metadata": {},
   "outputs": [],
   "source": [
    "X = dataset.valid[0]"
   ]
  },
  {
   "cell_type": "code",
   "execution_count": 55,
   "metadata": {},
   "outputs": [],
   "source": [
    "x = X[36]"
   ]
  },
  {
   "cell_type": "code",
   "execution_count": 56,
   "metadata": {},
   "outputs": [
    {
     "data": {
      "text/plain": [
       "array([    0.  ,     0.  ,     0.  , ..., 66548.98, 66550.48, 66551.99],\n",
       "      dtype=float32)"
      ]
     },
     "execution_count": 56,
     "metadata": {},
     "output_type": "execute_result"
    }
   ],
   "source": [
    "x[:, 14] / (1 / 2054)"
   ]
  },
  {
   "cell_type": "code",
   "execution_count": 57,
   "metadata": {},
   "outputs": [
    {
     "ename": "NameError",
     "evalue": "name 'L' is not defined",
     "output_type": "error",
     "traceback": [
      "\u001b[0;31m---------------------------------------------------------------------------\u001b[0m",
      "\u001b[0;31mNameError\u001b[0m                                 Traceback (most recent call last)",
      "\u001b[0;32m<ipython-input-57-b4af6eaa8c80>\u001b[0m in \u001b[0;36m<module>\u001b[0;34m\u001b[0m\n\u001b[1;32m      1\u001b[0m \u001b[0;32mfor\u001b[0m \u001b[0mi\u001b[0m \u001b[0;32min\u001b[0m \u001b[0midx\u001b[0m\u001b[0;34m:\u001b[0m\u001b[0;34m\u001b[0m\u001b[0m\n\u001b[0;32m----> 2\u001b[0;31m     \u001b[0ml\u001b[0m \u001b[0;34m=\u001b[0m \u001b[0mL\u001b[0m\u001b[0;34m[\u001b[0m\u001b[0mi\u001b[0m\u001b[0;34m,\u001b[0m \u001b[0;34m:\u001b[0m\u001b[0;34m,\u001b[0m \u001b[0;36m2\u001b[0m\u001b[0;34m]\u001b[0m\u001b[0;34m[\u001b[0m\u001b[0mL\u001b[0m\u001b[0;34m[\u001b[0m\u001b[0mi\u001b[0m\u001b[0;34m,\u001b[0m \u001b[0;34m:\u001b[0m\u001b[0;34m,\u001b[0m \u001b[0;36m2\u001b[0m\u001b[0;34m]\u001b[0m \u001b[0;34m>\u001b[0m \u001b[0;36m0\u001b[0m\u001b[0;34m]\u001b[0m\u001b[0;34m\u001b[0m\u001b[0m\n\u001b[0m\u001b[1;32m      3\u001b[0m     \u001b[0mprint\u001b[0m\u001b[0;34m(\u001b[0m\u001b[0ml\u001b[0m\u001b[0;34m[\u001b[0m\u001b[0;36m0\u001b[0m\u001b[0;34m]\u001b[0m \u001b[0;34m/\u001b[0m \u001b[0;34m(\u001b[0m\u001b[0;36m1\u001b[0m \u001b[0;34m/\u001b[0m \u001b[0;36m2050\u001b[0m\u001b[0;34m)\u001b[0m\u001b[0;34m)\u001b[0m\u001b[0;34m\u001b[0m\u001b[0m\n",
      "\u001b[0;31mNameError\u001b[0m: name 'L' is not defined"
     ]
    }
   ],
   "source": [
    "for i in idx:\n",
    "    l = L[i, :, 2][L[i, :, 2] > 0]\n",
    "    print(l[0] / (1 / 2050)) "
   ]
  },
  {
   "cell_type": "code",
   "execution_count": 68,
   "metadata": {},
   "outputs": [
    {
     "data": {
      "text/plain": [
       "[<matplotlib.lines.Line2D at 0x7fdaf127aa58>]"
      ]
     },
     "execution_count": 68,
     "metadata": {},
     "output_type": "execute_result"
    },
    {
     "data": {
      "image/png": "[encoded data removed]",
      "text/plain": [
       "<Figure size 432x288 with 1 Axes>"
      ]
     },
     "metadata": {
      "needs_background": "light"
     },
     "output_type": "display_data"
    }
   ],
   "source": [
    "plt.plot(X[idx[0], :, 9])"
   ]
  },
  {
   "cell_type": "code",
   "execution_count": 13,
   "metadata": {},
   "outputs": [
    {
     "data": {
      "text/plain": [
       "45.0"
      ]
     },
     "execution_count": 13,
     "metadata": {},
     "output_type": "execute_result"
    }
   ],
   "source": [
    "y.sum()"
   ]
  },
  {
   "cell_type": "code",
   "execution_count": 14,
   "metadata": {},
   "outputs": [
    {
     "data": {
      "text/plain": [
       "45.0"
      ]
     },
     "execution_count": 14,
     "metadata": {},
     "output_type": "execute_result"
    }
   ],
   "source": [
    "dataset.valid[1].sum()"
   ]
  },
  {
   "cell_type": "code",
   "execution_count": null,
   "metadata": {},
   "outputs": [],
   "source": []
  },
  {
   "cell_type": "code",
   "execution_count": 39,
   "metadata": {},
   "outputs": [],
   "source": [
    "hdf5 = h5py.File(\"../google_ssd_data/google_ssd_data.hdf5\")\n",
    "\n",
    "fd = hdf5[\"google/ssd/full/merged/seq2bin/shifted/extended\"]\n",
    "\n",
    "hfd = fd[\"90days\"]"
   ]
  },
  {
   "cell_type": "code",
   "execution_count": 16,
   "metadata": {},
   "outputs": [],
   "source": [
    "Y = fd[\"Y\"][:]"
   ]
  },
  {
   "cell_type": "code",
   "execution_count": 17,
   "metadata": {},
   "outputs": [
    {
     "data": {
      "text/plain": [
       "323.0"
      ]
     },
     "execution_count": 17,
     "metadata": {},
     "output_type": "execute_result"
    }
   ],
   "source": [
    "Y.sum()"
   ]
  },
  {
   "cell_type": "code",
   "execution_count": 54,
   "metadata": {},
   "outputs": [],
   "source": [
    "L = fd[\"X\"][:, :, :]"
   ]
  },
  {
   "cell_type": "code",
   "execution_count": null,
   "metadata": {},
   "outputs": [],
   "source": []
  },
  {
   "cell_type": "code",
   "execution_count": null,
   "metadata": {},
   "outputs": [],
   "source": [
    "sizes = (L != 0).sum(axis=-1)\n",
    "\n",
    "sizes[0]"
   ]
  },
  {
   "cell_type": "code",
   "execution_count": null,
   "metadata": {},
   "outputs": [],
   "source": [
    "fd[\"X\"].shape"
   ]
  },
  {
   "cell_type": "code",
   "execution_count": null,
   "metadata": {},
   "outputs": [],
   "source": [
    "fd[\"X\"][0, 2054 - 1208]"
   ]
  },
  {
   "cell_type": "code",
   "execution_count": null,
   "metadata": {},
   "outputs": [],
   "source": [
    "fd[\"X\"][0,-1]"
   ]
  },
  {
   "cell_type": "code",
   "execution_count": 33,
   "metadata": {},
   "outputs": [
    {
     "ename": "NameError",
     "evalue": "name 'fd' is not defined",
     "output_type": "error",
     "traceback": [
      "\u001b[0;31m---------------------------------------------------------------------------\u001b[0m",
      "\u001b[0;31mNameError\u001b[0m                                 Traceback (most recent call last)",
      "\u001b[0;32m<ipython-input-33-5d75a6077444>\u001b[0m in \u001b[0;36m<module>\u001b[0;34m\u001b[0m\n\u001b[0;32m----> 1\u001b[0;31m \u001b[0;32mfor\u001b[0m \u001b[0mi\u001b[0m \u001b[0;32min\u001b[0m \u001b[0mrange\u001b[0m\u001b[0;34m(\u001b[0m\u001b[0mfd\u001b[0m\u001b[0;34m[\u001b[0m\u001b[0;34m\"X\"\u001b[0m\u001b[0;34m]\u001b[0m\u001b[0;34m.\u001b[0m\u001b[0mshape\u001b[0m\u001b[0;34m[\u001b[0m\u001b[0;36m0\u001b[0m\u001b[0;34m]\u001b[0m\u001b[0;34m)\u001b[0m\u001b[0;34m:\u001b[0m\u001b[0;34m\u001b[0m\u001b[0m\n\u001b[0m\u001b[1;32m      2\u001b[0m     \u001b[0mx\u001b[0m \u001b[0;34m=\u001b[0m \u001b[0mfd\u001b[0m\u001b[0;34m[\u001b[0m\u001b[0;34m\"X\"\u001b[0m\u001b[0;34m]\u001b[0m\u001b[0;34m[\u001b[0m\u001b[0mi\u001b[0m\u001b[0;34m]\u001b[0m\u001b[0;34m\u001b[0m\u001b[0m\n\u001b[1;32m      3\u001b[0m     \u001b[0my\u001b[0m \u001b[0;34m=\u001b[0m \u001b[0mfd\u001b[0m\u001b[0;34m[\u001b[0m\u001b[0;34m\"Y\"\u001b[0m\u001b[0;34m]\u001b[0m\u001b[0;34m[\u001b[0m\u001b[0mi\u001b[0m\u001b[0;34m]\u001b[0m\u001b[0;34m\u001b[0m\u001b[0m\n\u001b[1;32m      4\u001b[0m \u001b[0;34m\u001b[0m\u001b[0m\n\u001b[1;32m      5\u001b[0m     \u001b[0;32mif\u001b[0m \u001b[0my\u001b[0m \u001b[0;34m==\u001b[0m \u001b[0;36m0\u001b[0m\u001b[0;34m:\u001b[0m\u001b[0;34m\u001b[0m\u001b[0m\n",
      "\u001b[0;31mNameError\u001b[0m: name 'fd' is not defined"
     ]
    }
   ],
   "source": [
    "for i in range(fd[\"X\"].shape[0]):\n",
    "    x = fd[\"X\"][i]\n",
    "    y = fd[\"Y\"][i]\n",
    "    \n",
    "    if y == 0:\n",
    "        if sizes[i] > 180:\n",
    "            x = x[-180:-90]\n",
    "        else:\n",
    "            x = x[-90:]\n",
    "            \n",
    "        hfd[\"X\"][i] = x"
   ]
  },
  {
   "cell_type": "code",
   "execution_count": null,
   "metadata": {},
   "outputs": [],
   "source": [
    "hdf5.close()"
   ]
  },
  {
   "cell_type": "code",
   "execution_count": null,
   "metadata": {},
   "outputs": [],
   "source": []
  },
  {
   "cell_type": "code",
   "execution_count": null,
   "metadata": {},
   "outputs": [],
   "source": []
  },
  {
   "cell_type": "code",
   "execution_count": null,
   "metadata": {},
   "outputs": [],
   "source": []
  },
  {
   "cell_type": "code",
   "execution_count": null,
   "metadata": {},
   "outputs": [],
   "source": []
  },
  {
   "cell_type": "code",
   "execution_count": null,
   "metadata": {},
   "outputs": [],
   "source": []
  },
  {
   "cell_type": "code",
   "execution_count": null,
   "metadata": {},
   "outputs": [],
   "source": []
  },
  {
   "cell_type": "code",
   "execution_count": null,
   "metadata": {},
   "outputs": [],
   "source": []
  },
  {
   "cell_type": "code",
   "execution_count": null,
   "metadata": {},
   "outputs": [],
   "source": []
  },
  {
   "cell_type": "code",
   "execution_count": null,
   "metadata": {},
   "outputs": [],
   "source": []
  },
  {
   "cell_type": "code",
   "execution_count": null,
   "metadata": {},
   "outputs": [],
   "source": []
  },
  {
   "cell_type": "code",
   "execution_count": null,
   "metadata": {},
   "outputs": [],
   "source": []
  },
  {
   "cell_type": "code",
   "execution_count": null,
   "metadata": {},
   "outputs": [],
   "source": []
  },
  {
   "cell_type": "code",
   "execution_count": null,
   "metadata": {},
   "outputs": [],
   "source": []
  },
  {
   "cell_type": "code",
   "execution_count": null,
   "metadata": {},
   "outputs": [],
   "source": []
  },
  {
   "cell_type": "code",
   "execution_count": null,
   "metadata": {},
   "outputs": [],
   "source": []
  },
  {
   "cell_type": "code",
   "execution_count": null,
   "metadata": {},
   "outputs": [],
   "source": []
  },
  {
   "cell_type": "code",
   "execution_count": 8,
   "metadata": {},
   "outputs": [],
   "source": [
    "def detection_rate(output, target, thresh=0.5):\n",
    "    pred = output >= thresh\n",
    "    correct = ((pred == 1) * (target == 1)).sum()\n",
    "    n_one = (target == 1).sum()\n",
    "    return correct / (1 if n_one == 0 else n_one)\n",
    "\n",
    "\n",
    "def false_alarm_rate(output, target, thresh=0.5):\n",
    "    pred = output >= thresh\n",
    "    correct = ((pred == 1) * (target == 0)).sum()\n",
    "    n_zero = (target == 0).sum()\n",
    "    return correct / (1 if n_zero == 0 else n_zero)\n",
    "\n",
    "\n",
    "def _detection_atper(target_far=0.01, eps=1e-5, max_iter=100):\n",
    "    def __detection_atper(output, target):\n",
    "        min_thresh = 0\n",
    "        max_thresh = 1\n",
    "        thresh = 0.5\n",
    "        for i in range(max_iter):\n",
    "            far = false_alarm_rate(output, target, thresh=thresh)\n",
    "            if far == target_far:\n",
    "                break\n",
    "            elif far < target_far:\n",
    "                # reduce threshold\n",
    "                max_thresh = thresh\n",
    "                thresh = 0.5 * (max_thresh + min_thresh)\n",
    "            elif far > target_far:\n",
    "                # increase threshold\n",
    "                min_thresh = thresh\n",
    "                thresh = 0.5 * (max_thresh + min_thresh)\n",
    "            if abs(far - target_far) < eps:\n",
    "                break\n",
    "                \n",
    "        print(thresh)\n",
    "        return detection_rate(output, target, thresh=thresh)\n",
    "\n",
    "    return __detection_atper"
   ]
  },
  {
   "cell_type": "code",
   "execution_count": null,
   "metadata": {},
   "outputs": [],
   "source": []
  },
  {
   "cell_type": "code",
   "execution_count": null,
   "metadata": {},
   "outputs": [],
   "source": []
  }
 ],
 "metadata": {
  "kernelspec": {
   "display_name": "Python 3",
   "language": "python",
   "name": "python3"
  },
  "language_info": {
   "codemirror_mode": {
    "name": "ipython",
    "version": 3
   },
   "file_extension": ".py",
   "mimetype": "text/x-python",
   "name": "python",
   "nbconvert_exporter": "python",
   "pygments_lexer": "ipython3",
   "version": "3.6.6"
  }
 },
 "nbformat": 4,
 "nbformat_minor": 2
}
