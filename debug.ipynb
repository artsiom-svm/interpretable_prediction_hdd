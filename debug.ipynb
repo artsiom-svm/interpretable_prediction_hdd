{
 "cells": [
  {
   "cell_type": "code",
   "execution_count": 1,
   "metadata": {},
   "outputs": [],
   "source": [
    "import os\n",
    "os.environ[\"CUDA_VISIBLE_DEVICES\"]=\"-1\" \n",
    "\n",
    "import tensorflow as tf\n",
    "import tensorflow.keras as keras\n",
    "import tensorflow.keras.layers as L\n",
    "import h5py\n",
    "import numpy as np\n",
    "import matplotlib.pyplot as plt"
   ]
  },
  {
   "cell_type": "code",
   "execution_count": 45,
   "metadata": {},
   "outputs": [],
   "source": [
    "N, T, m = 3, 7, 2\n",
    "X = np.random.random((N,T,m)).astype(np.float32)\n",
    "Y = np.random.random((N, 1)).astype(np.float32)"
   ]
  },
  {
   "cell_type": "code",
   "execution_count": 46,
   "metadata": {},
   "outputs": [
    {
     "data": {
      "text/plain": [
       "array([[[   0.6088873 ,    0.72217745],\n",
       "        [   0.90148866,    0.6452914 ],\n",
       "        [   0.56526315,    0.41411102],\n",
       "        [   0.54522693,    0.24928297],\n",
       "        [   0.487642  ,    0.37346917],\n",
       "        [-100.        , -100.        ],\n",
       "        [-100.        , -100.        ]],\n",
       "\n",
       "       [[   0.43218434,    0.69822174],\n",
       "        [   0.7645032 ,    0.52073455],\n",
       "        [   0.8319189 ,    0.90506285],\n",
       "        [   0.6932397 ,    0.10851155],\n",
       "        [   0.92189085,    0.8566777 ],\n",
       "        [   0.81903327,    0.85702413],\n",
       "        [   0.14210367,    0.4927199 ]],\n",
       "\n",
       "       [[   0.94203234,    0.13393353],\n",
       "        [   0.52912635,    0.59394884],\n",
       "        [   0.7125795 ,    0.8429171 ],\n",
       "        [   0.6102545 ,    0.62961495],\n",
       "        [   0.163841  ,    0.4671248 ],\n",
       "        [   0.45647967,    0.41673592],\n",
       "        [   0.9668638 ,    0.5878279 ]]], dtype=float32)"
      ]
     },
     "execution_count": 46,
     "metadata": {},
     "output_type": "execute_result"
    }
   ],
   "source": [
    "X[0, -2:] = -100\n",
    "msk = L.Masking(mask_value=-100)\n",
    "X"
   ]
  },
  {
   "cell_type": "code",
   "execution_count": 47,
   "metadata": {},
   "outputs": [
    {
     "data": {
      "text/plain": [
       "array([[[ 0.6088873 ],\n",
       "        [ 0.90148866],\n",
       "        [ 0.56526315],\n",
       "        [ 0.54522693],\n",
       "        [ 0.487642  ],\n",
       "        [-0.        ],\n",
       "        [-0.        ]],\n",
       "\n",
       "       [[ 0.43218434],\n",
       "        [ 0.7645032 ],\n",
       "        [ 0.8319189 ],\n",
       "        [ 0.6932397 ],\n",
       "        [ 0.92189085],\n",
       "        [ 0.81903327],\n",
       "        [ 0.14210367]],\n",
       "\n",
       "       [[ 0.94203234],\n",
       "        [ 0.52912635],\n",
       "        [ 0.7125795 ],\n",
       "        [ 0.6102545 ],\n",
       "        [ 0.163841  ],\n",
       "        [ 0.45647967],\n",
       "        [ 0.9668638 ]]], dtype=float32)"
      ]
     },
     "execution_count": 47,
     "metadata": {},
     "output_type": "execute_result"
    }
   ],
   "source": [
    "(msk(X[:, :, :1])).numpy()"
   ]
  },
  {
   "cell_type": "code",
   "execution_count": 48,
   "metadata": {},
   "outputs": [
    {
     "data": {
      "text/plain": [
       "<tf.Tensor: id=6909, shape=(7, 1), dtype=float32, numpy=\n",
       "array([[0.16104943],\n",
       "       [0.2157915 ],\n",
       "       [0.15417482],\n",
       "       [0.15111648],\n",
       "       [0.14266025],\n",
       "       [0.08760376],\n",
       "       [0.08760376]], dtype=float32)>"
      ]
     },
     "execution_count": 48,
     "metadata": {},
     "output_type": "execute_result"
    }
   ],
   "source": [
    "tf.nn.softmax(msk(X[:, :, :1]), axis=-2)[0]"
   ]
  },
  {
   "cell_type": "code",
   "execution_count": 51,
   "metadata": {},
   "outputs": [
    {
     "data": {
      "text/plain": [
       "<tf.Tensor: id=6949, shape=(3, 6, 1), dtype=float32, numpy=\n",
       "array([[[0.7112553 ],\n",
       "        [0.63766944],\n",
       "        [0.6330275 ],\n",
       "        [0.61955076],\n",
       "        [0.        ],\n",
       "        [0.        ]],\n",
       "\n",
       "       [[0.6823306 ],\n",
       "        [0.69676054],\n",
       "        [0.6666872 ],\n",
       "        [0.71542716],\n",
       "        [0.69403106],\n",
       "        [0.53546625]],\n",
       "\n",
       "       [[0.6292793 ],\n",
       "        [0.67097086],\n",
       "        [0.64799887],\n",
       "        [0.5408689 ],\n",
       "        [0.61217874],\n",
       "        [0.7244939 ]]], dtype=float32)>"
      ]
     },
     "execution_count": 51,
     "metadata": {},
     "output_type": "execute_result"
    }
   ],
   "source": [
    "tf.nn.sigmoid(X[:, 1:, :1])"
   ]
  },
  {
   "cell_type": "code",
   "execution_count": 34,
   "metadata": {},
   "outputs": [
    {
     "name": "stdout",
     "output_type": "stream",
     "text": [
      "(None, 4, 7, 2)\n"
     ]
    },
    {
     "ename": "TypeError",
     "evalue": "unsupported operand type(s) for //: 'NoneType' and 'int'",
     "output_type": "error",
     "traceback": [
      "\u001b[0;31m---------------------------------------------------------------------------\u001b[0m",
      "\u001b[0;31mTypeError\u001b[0m                                 Traceback (most recent call last)",
      "\u001b[0;32m<ipython-input-34-99a53a72f7ac>\u001b[0m in \u001b[0;36m<module>\u001b[0;34m\u001b[0m\n\u001b[1;32m      8\u001b[0m \u001b[0;34m\u001b[0m\u001b[0m\n\u001b[1;32m      9\u001b[0m \u001b[0mprint\u001b[0m\u001b[0;34m(\u001b[0m\u001b[0minp\u001b[0m\u001b[0;34m.\u001b[0m\u001b[0mshape\u001b[0m\u001b[0;34m)\u001b[0m\u001b[0;34m\u001b[0m\u001b[0;34m\u001b[0m\u001b[0m\n\u001b[0;32m---> 10\u001b[0;31m \u001b[0minp\u001b[0m  \u001b[0;34m=\u001b[0m \u001b[0mtf\u001b[0m\u001b[0;34m.\u001b[0m\u001b[0msplit\u001b[0m\u001b[0;34m(\u001b[0m\u001b[0minp\u001b[0m\u001b[0;34m,\u001b[0m \u001b[0minp\u001b[0m\u001b[0;34m.\u001b[0m\u001b[0mshape\u001b[0m\u001b[0;34m[\u001b[0m\u001b[0;36m0\u001b[0m\u001b[0;34m]\u001b[0m \u001b[0;34m//\u001b[0m \u001b[0;36m2\u001b[0m\u001b[0;34m,\u001b[0m \u001b[0maxis\u001b[0m\u001b[0;34m=\u001b[0m\u001b[0;36m0\u001b[0m\u001b[0;34m)\u001b[0m\u001b[0;34m\u001b[0m\u001b[0;34m\u001b[0m\u001b[0m\n\u001b[0m\u001b[1;32m     11\u001b[0m \u001b[0my_fv\u001b[0m \u001b[0;34m=\u001b[0m \u001b[0mmsk\u001b[0m\u001b[0;34m(\u001b[0m\u001b[0minp\u001b[0m\u001b[0;34m)\u001b[0m\u001b[0;34m\u001b[0m\u001b[0;34m\u001b[0m\u001b[0m\n\u001b[1;32m     12\u001b[0m \u001b[0mmskv\u001b[0m \u001b[0;34m=\u001b[0m \u001b[0mtf\u001b[0m\u001b[0;34m.\u001b[0m\u001b[0mreduce_all\u001b[0m\u001b[0;34m(\u001b[0m\u001b[0mtf\u001b[0m\u001b[0;34m.\u001b[0m\u001b[0mnot_equal\u001b[0m\u001b[0;34m(\u001b[0m\u001b[0minp\u001b[0m\u001b[0;34m,\u001b[0m \u001b[0;34m-\u001b[0m\u001b[0;36m10\u001b[0m\u001b[0;34m)\u001b[0m\u001b[0;34m,\u001b[0m \u001b[0maxis\u001b[0m\u001b[0;34m=\u001b[0m\u001b[0;34m-\u001b[0m\u001b[0;36m1\u001b[0m\u001b[0;34m)\u001b[0m\u001b[0;34m\u001b[0m\u001b[0;34m\u001b[0m\u001b[0m\n",
      "\u001b[0;31mTypeError\u001b[0m: unsupported operand type(s) for //: 'NoneType' and 'int'"
     ]
    }
   ],
   "source": [
    "inp = keras.Input(shape=X.shape)\n",
    "\n",
    "msk = L.Masking(mask_value=np.float32(-10))\n",
    "fc = L.Dense(units=5)\n",
    "fco = L.Dense(units=5)\n",
    "rnn = L.GRU(units=3, return_sequences=True)\n",
    "fc2 = L.Dense(units=1)\n",
    "\n",
    "print(inp.shape)\n",
    "inp  = tf.split(inp, inp.shape[0] // 2, axis=0)\n",
    "y_fv = msk(inp)\n",
    "mskv = tf.reduce_all(tf.not_equal(inp, -10), axis=-1)\n",
    "mskv = tf.cast(mskv, dtype=tf.int32)\n",
    "offs = tf.reduce_sum(mskv, axis=-1)\n",
    "\n",
    "y_inv = msk(tf.reverse_sequence(inp, seq_lengths=offs, seq_axis=1, batch_axis=0))\n",
    "\n",
    "v = fc(y_fv)\n",
    "v_inv = fc(y_inv)\n",
    "h = rnn(v_inv)\n",
    "b = fco(h)\n",
    "by = b * v\n",
    "y = tf.reduce_sum(by, axis=-2)\n",
    "y = fc2(y)\n",
    "model = keras.Model(inputs=inp, outputs=y)"
   ]
  },
  {
   "cell_type": "code",
   "execution_count": 12,
   "metadata": {},
   "outputs": [
    {
     "data": {
      "text/plain": [
       "(<tf.Tensor: id=6160, shape=(3, 1), dtype=float32, numpy=\n",
       " array([[0.24680601],\n",
       "        [0.07324187],\n",
       "        [0.13545142]], dtype=float32)>,\n",
       " <tf.Tensor: id=6621, shape=(3, 1), dtype=float32, numpy=\n",
       " array([[0.24680601],\n",
       "        [0.07324187],\n",
       "        [0.13545142]], dtype=float32)>)"
      ]
     },
     "execution_count": 12,
     "metadata": {},
     "output_type": "execute_result"
    }
   ],
   "source": [
    "X[:, -4:] = -10\n",
    "\n",
    "X[1, -6:] = -10\n",
    "model(X[:, :]), model(X[:, :-1])"
   ]
  },
  {
   "cell_type": "code",
   "execution_count": 5,
   "metadata": {},
   "outputs": [
    {
     "ename": "InvalidArgumentError",
     "evalue": "Incompatible shapes: [10,7,5] vs. [10,2,5] [Op:Sub] name: sub/",
     "output_type": "error",
     "traceback": [
      "\u001b[0;31m---------------------------------------------------------------------------\u001b[0m",
      "\u001b[0;31mInvalidArgumentError\u001b[0m                      Traceback (most recent call last)",
      "\u001b[0;32m<ipython-input-5-00afb94402cf>\u001b[0m in \u001b[0;36m<module>\u001b[0;34m\u001b[0m\n\u001b[0;32m----> 1\u001b[0;31m \u001b[0mmodel\u001b[0m\u001b[0;34m(\u001b[0m\u001b[0mX\u001b[0m\u001b[0;34m)\u001b[0m \u001b[0;34m-\u001b[0m \u001b[0mmodel\u001b[0m\u001b[0;34m(\u001b[0m\u001b[0mX\u001b[0m\u001b[0;34m[\u001b[0m\u001b[0;34m:\u001b[0m\u001b[0;34m,\u001b[0m \u001b[0;34m:\u001b[0m\u001b[0;34m-\u001b[0m\u001b[0;36m5\u001b[0m\u001b[0;34m]\u001b[0m\u001b[0;34m)\u001b[0m\u001b[0;34m\u001b[0m\u001b[0;34m\u001b[0m\u001b[0m\n\u001b[0m",
      "\u001b[0;32m~/.local/lib/python3.6/site-packages/tensorflow/python/ops/math_ops.py\u001b[0m in \u001b[0;36mbinary_op_wrapper\u001b[0;34m(x, y)\u001b[0m\n\u001b[1;32m    882\u001b[0m     \u001b[0;32mwith\u001b[0m \u001b[0mops\u001b[0m\u001b[0;34m.\u001b[0m\u001b[0mname_scope\u001b[0m\u001b[0;34m(\u001b[0m\u001b[0;32mNone\u001b[0m\u001b[0;34m,\u001b[0m \u001b[0mop_name\u001b[0m\u001b[0;34m,\u001b[0m \u001b[0;34m[\u001b[0m\u001b[0mx\u001b[0m\u001b[0;34m,\u001b[0m \u001b[0my\u001b[0m\u001b[0;34m]\u001b[0m\u001b[0;34m)\u001b[0m \u001b[0;32mas\u001b[0m \u001b[0mname\u001b[0m\u001b[0;34m:\u001b[0m\u001b[0;34m\u001b[0m\u001b[0;34m\u001b[0m\u001b[0m\n\u001b[1;32m    883\u001b[0m       \u001b[0;32mif\u001b[0m \u001b[0misinstance\u001b[0m\u001b[0;34m(\u001b[0m\u001b[0mx\u001b[0m\u001b[0;34m,\u001b[0m \u001b[0mops\u001b[0m\u001b[0;34m.\u001b[0m\u001b[0mTensor\u001b[0m\u001b[0;34m)\u001b[0m \u001b[0;32mand\u001b[0m \u001b[0misinstance\u001b[0m\u001b[0;34m(\u001b[0m\u001b[0my\u001b[0m\u001b[0;34m,\u001b[0m \u001b[0mops\u001b[0m\u001b[0;34m.\u001b[0m\u001b[0mTensor\u001b[0m\u001b[0;34m)\u001b[0m\u001b[0;34m:\u001b[0m\u001b[0;34m\u001b[0m\u001b[0;34m\u001b[0m\u001b[0m\n\u001b[0;32m--> 884\u001b[0;31m         \u001b[0;32mreturn\u001b[0m \u001b[0mfunc\u001b[0m\u001b[0;34m(\u001b[0m\u001b[0mx\u001b[0m\u001b[0;34m,\u001b[0m \u001b[0my\u001b[0m\u001b[0;34m,\u001b[0m \u001b[0mname\u001b[0m\u001b[0;34m=\u001b[0m\u001b[0mname\u001b[0m\u001b[0;34m)\u001b[0m\u001b[0;34m\u001b[0m\u001b[0;34m\u001b[0m\u001b[0m\n\u001b[0m\u001b[1;32m    885\u001b[0m       \u001b[0;32melif\u001b[0m \u001b[0;32mnot\u001b[0m \u001b[0misinstance\u001b[0m\u001b[0;34m(\u001b[0m\u001b[0my\u001b[0m\u001b[0;34m,\u001b[0m \u001b[0msparse_tensor\u001b[0m\u001b[0;34m.\u001b[0m\u001b[0mSparseTensor\u001b[0m\u001b[0;34m)\u001b[0m\u001b[0;34m:\u001b[0m\u001b[0;34m\u001b[0m\u001b[0;34m\u001b[0m\u001b[0m\n\u001b[1;32m    886\u001b[0m         \u001b[0;32mtry\u001b[0m\u001b[0;34m:\u001b[0m\u001b[0;34m\u001b[0m\u001b[0;34m\u001b[0m\u001b[0m\n",
      "\u001b[0;32m~/.local/lib/python3.6/site-packages/tensorflow/python/ops/gen_math_ops.py\u001b[0m in \u001b[0;36msub\u001b[0;34m(x, y, name)\u001b[0m\n\u001b[1;32m  10850\u001b[0m       \u001b[0;32melse\u001b[0m\u001b[0;34m:\u001b[0m\u001b[0;34m\u001b[0m\u001b[0;34m\u001b[0m\u001b[0m\n\u001b[1;32m  10851\u001b[0m         \u001b[0mmessage\u001b[0m \u001b[0;34m=\u001b[0m \u001b[0me\u001b[0m\u001b[0;34m.\u001b[0m\u001b[0mmessage\u001b[0m\u001b[0;34m\u001b[0m\u001b[0;34m\u001b[0m\u001b[0m\n\u001b[0;32m> 10852\u001b[0;31m       \u001b[0m_six\u001b[0m\u001b[0;34m.\u001b[0m\u001b[0mraise_from\u001b[0m\u001b[0;34m(\u001b[0m\u001b[0m_core\u001b[0m\u001b[0;34m.\u001b[0m\u001b[0m_status_to_exception\u001b[0m\u001b[0;34m(\u001b[0m\u001b[0me\u001b[0m\u001b[0;34m.\u001b[0m\u001b[0mcode\u001b[0m\u001b[0;34m,\u001b[0m \u001b[0mmessage\u001b[0m\u001b[0;34m)\u001b[0m\u001b[0;34m,\u001b[0m \u001b[0;32mNone\u001b[0m\u001b[0;34m)\u001b[0m\u001b[0;34m\u001b[0m\u001b[0;34m\u001b[0m\u001b[0m\n\u001b[0m\u001b[1;32m  10853\u001b[0m   \u001b[0;31m# Add nodes to the TensorFlow graph.\u001b[0m\u001b[0;34m\u001b[0m\u001b[0;34m\u001b[0m\u001b[0;34m\u001b[0m\u001b[0m\n\u001b[1;32m  10854\u001b[0m   _, _, _op = _op_def_lib._apply_op_helper(\n",
      "\u001b[0;32m~/.local/lib/python3.6/site-packages/six.py\u001b[0m in \u001b[0;36mraise_from\u001b[0;34m(value, from_value)\u001b[0m\n",
      "\u001b[0;31mInvalidArgumentError\u001b[0m: Incompatible shapes: [10,7,5] vs. [10,2,5] [Op:Sub] name: sub/"
     ]
    }
   ],
   "source": [
    "model(X) - model(X[:, :-5])"
   ]
  },
  {
   "cell_type": "code",
   "execution_count": 38,
   "metadata": {},
   "outputs": [
    {
     "data": {
      "text/plain": [
       "<tf.Tensor: id=223, shape=(1, 7, 2), dtype=float32, numpy=\n",
       "array([[[  0.8217553 ,   0.9094859 ],\n",
       "        [  0.3038528 ,   0.4574116 ],\n",
       "        [  0.31723672,   0.14838189],\n",
       "        [-10.        , -10.        ],\n",
       "        [-10.        , -10.        ],\n",
       "        [-10.        , -10.        ],\n",
       "        [-10.        , -10.        ]]], dtype=float32)>"
      ]
     },
     "execution_count": 38,
     "metadata": {},
     "output_type": "execute_result"
    }
   ],
   "source": [
    "tf.reverse_sequence(X[:1], seq_lengths=X[:1].shape[-3] * [X.shape[-2]], seq_axis=-2)"
   ]
  },
  {
   "cell_type": "code",
   "execution_count": 47,
   "metadata": {
    "scrolled": true
   },
   "outputs": [
    {
     "data": {
      "text/plain": [
       "array([[[  0.8217553 ,   0.9094859 ],\n",
       "        [  0.3038528 ,   0.4574116 ],\n",
       "        [  0.31723672,   0.14838189],\n",
       "        [-10.        , -10.        ],\n",
       "        [-10.        , -10.        ],\n",
       "        [-10.        , -10.        ],\n",
       "        [-10.        , -10.        ]]], dtype=float32)"
      ]
     },
     "execution_count": 47,
     "metadata": {},
     "output_type": "execute_result"
    }
   ],
   "source": [
    "X[:1]"
   ]
  },
  {
   "cell_type": "code",
   "execution_count": 48,
   "metadata": {},
   "outputs": [
    {
     "data": {
      "text/plain": [
       "<tf.Tensor: id=287, shape=(2,), dtype=int32, numpy=array([3, 1], dtype=int32)>"
      ]
     },
     "execution_count": 48,
     "metadata": {},
     "output_type": "execute_result"
    }
   ],
   "source": [
    "msk = tf.reduce_all(tf.not_equal(X[:2], -10), axis=-1)\n",
    "msk = tf.cast(msk, dtype=tf.int32)\n",
    "offs = tf.reduce_sum(msk, axis=-1)\n",
    "offs"
   ]
  },
  {
   "cell_type": "code",
   "execution_count": 49,
   "metadata": {},
   "outputs": [
    {
     "data": {
      "text/plain": [
       "<tf.Tensor: id=296, shape=(2, 7, 2), dtype=float32, numpy=\n",
       "array([[[ 0.31723672,  0.14838189],\n",
       "        [ 0.3038528 ,  0.4574116 ],\n",
       "        [ 0.8217553 ,  0.9094859 ],\n",
       "        [-0.        , -0.        ],\n",
       "        [-0.        , -0.        ],\n",
       "        [-0.        , -0.        ],\n",
       "        [-0.        , -0.        ]],\n",
       "\n",
       "       [[ 0.84418404,  0.618427  ],\n",
       "        [-0.        , -0.        ],\n",
       "        [-0.        , -0.        ],\n",
       "        [-0.        , -0.        ],\n",
       "        [-0.        , -0.        ],\n",
       "        [-0.        , -0.        ],\n",
       "        [-0.        , -0.        ]]], dtype=float32)>"
      ]
     },
     "execution_count": 49,
     "metadata": {},
     "output_type": "execute_result"
    }
   ],
   "source": [
    "msk = L.Masking(mask_value=-10)\n",
    "msk(tf.reverse_sequence(X[:2], seq_lengths=offs, seq_axis=1, batch_axis=0))"
   ]
  },
  {
   "cell_type": "code",
   "execution_count": 28,
   "metadata": {},
   "outputs": [
    {
     "data": {
      "text/plain": [
       "<tf.Tensor: id=6762, shape=(2, 7, 2), dtype=float32, numpy=\n",
       "array([[[-0.        , -0.        ],\n",
       "        [-0.        , -0.        ],\n",
       "        [ 0.42450413,  0.5582725 ],\n",
       "        [ 0.03606643,  0.16379678],\n",
       "        [ 0.98588264,  0.10061571],\n",
       "        [ 0.26833102,  0.5919821 ],\n",
       "        [ 0.04283847,  0.07803915]],\n",
       "\n",
       "       [[ 0.8090406 ,  0.21181963],\n",
       "        [ 0.7092773 ,  0.05737368],\n",
       "        [ 0.4905173 ,  0.59327453],\n",
       "        [ 0.14978719,  0.22194387],\n",
       "        [ 0.3862516 ,  0.7885808 ],\n",
       "        [ 0.3587108 ,  0.49720868],\n",
       "        [ 0.71081185,  0.33828244]]], dtype=float32)>"
      ]
     },
     "execution_count": 28,
     "metadata": {},
     "output_type": "execute_result"
    }
   ],
   "source": [
    "msk(X[:2])"
   ]
  },
  {
   "cell_type": "code",
   "execution_count": 29,
   "metadata": {},
   "outputs": [
    {
     "data": {
      "text/plain": [
       "array([[[-1.0000000e+02, -1.0000000e+02],\n",
       "        [-1.0000000e+02, -1.0000000e+02],\n",
       "        [ 4.2450413e-01,  5.5827248e-01],\n",
       "        [ 3.6066432e-02,  1.6379678e-01],\n",
       "        [ 9.8588264e-01,  1.0061571e-01],\n",
       "        [ 2.6833102e-01,  5.9198213e-01],\n",
       "        [ 4.2838469e-02,  7.8039154e-02]],\n",
       "\n",
       "       [[ 8.0904061e-01,  2.1181963e-01],\n",
       "        [ 7.0927727e-01,  5.7373684e-02],\n",
       "        [ 4.9051729e-01,  5.9327453e-01],\n",
       "        [ 1.4978719e-01,  2.2194387e-01],\n",
       "        [ 3.8625160e-01,  7.8858078e-01],\n",
       "        [ 3.5871080e-01,  4.9720868e-01],\n",
       "        [ 7.1081185e-01,  3.3828244e-01]],\n",
       "\n",
       "       [[ 9.8855788e-01,  5.9219545e-01],\n",
       "        [ 8.5178751e-01,  8.9589912e-01],\n",
       "        [ 5.8684576e-01,  1.6893840e-01],\n",
       "        [ 9.2333066e-01,  6.0553485e-01],\n",
       "        [ 6.8947476e-01,  5.4251802e-01],\n",
       "        [ 9.5534128e-01,  9.4032651e-01],\n",
       "        [ 2.9521921e-01,  6.6151160e-01]],\n",
       "\n",
       "       [[ 4.8100618e-01,  2.2123668e-03],\n",
       "        [ 8.8870037e-01,  5.0715256e-01],\n",
       "        [ 4.4176090e-01,  7.0489669e-01],\n",
       "        [ 6.9893539e-01,  6.9172728e-01],\n",
       "        [ 2.7435303e-01,  3.1628925e-01],\n",
       "        [ 5.9638727e-01,  3.7899217e-01],\n",
       "        [ 7.8480464e-01,  6.9258338e-01]]], dtype=float32)"
      ]
     },
     "execution_count": 29,
     "metadata": {},
     "output_type": "execute_result"
    }
   ],
   "source": [
    "X"
   ]
  },
  {
   "cell_type": "code",
   "execution_count": 31,
   "metadata": {},
   "outputs": [
    {
     "data": {
      "text/plain": [
       "[<tf.Tensor: id=6769, shape=(2, 7, 2), dtype=float32, numpy=\n",
       " array([[[-1.0000000e+02, -1.0000000e+02],\n",
       "         [-1.0000000e+02, -1.0000000e+02],\n",
       "         [ 4.2450413e-01,  5.5827248e-01],\n",
       "         [ 3.6066432e-02,  1.6379678e-01],\n",
       "         [ 9.8588264e-01,  1.0061571e-01],\n",
       "         [ 2.6833102e-01,  5.9198213e-01],\n",
       "         [ 4.2838469e-02,  7.8039154e-02]],\n",
       " \n",
       "        [[ 8.0904061e-01,  2.1181963e-01],\n",
       "         [ 7.0927727e-01,  5.7373684e-02],\n",
       "         [ 4.9051729e-01,  5.9327453e-01],\n",
       "         [ 1.4978719e-01,  2.2194387e-01],\n",
       "         [ 3.8625160e-01,  7.8858078e-01],\n",
       "         [ 3.5871080e-01,  4.9720868e-01],\n",
       "         [ 7.1081185e-01,  3.3828244e-01]]], dtype=float32)>,\n",
       " <tf.Tensor: id=6770, shape=(2, 7, 2), dtype=float32, numpy=\n",
       " array([[[0.9885579 , 0.59219545],\n",
       "         [0.8517875 , 0.8958991 ],\n",
       "         [0.58684576, 0.1689384 ],\n",
       "         [0.92333066, 0.60553485],\n",
       "         [0.68947476, 0.542518  ],\n",
       "         [0.9553413 , 0.9403265 ],\n",
       "         [0.2952192 , 0.6615116 ]],\n",
       " \n",
       "        [[0.48100618, 0.00221237],\n",
       "         [0.88870037, 0.50715256],\n",
       "         [0.4417609 , 0.7048967 ],\n",
       "         [0.6989354 , 0.6917273 ],\n",
       "         [0.27435303, 0.31628925],\n",
       "         [0.59638727, 0.37899217],\n",
       "         [0.78480464, 0.6925834 ]]], dtype=float32)>]"
      ]
     },
     "execution_count": 31,
     "metadata": {},
     "output_type": "execute_result"
    }
   ],
   "source": [
    "tf.split(X, X.shape[0] // 2, axis=0)"
   ]
  },
  {
   "cell_type": "code",
   "execution_count": 23,
   "metadata": {},
   "outputs": [],
   "source": [
    "tf.split?"
   ]
  },
  {
   "cell_type": "code",
   "execution_count": null,
   "metadata": {},
   "outputs": [],
   "source": []
  },
  {
   "cell_type": "code",
   "execution_count": 28,
   "metadata": {},
   "outputs": [
    {
     "data": {
      "text/plain": [
       "<tf.Tensor: id=14667, shape=(10, 1), dtype=float32, numpy=\n",
       "array([[-0.56867504],\n",
       "       [-0.48774862],\n",
       "       [-0.5320935 ],\n",
       "       [-0.5174241 ],\n",
       "       [-0.5051575 ],\n",
       "       [-0.5465579 ],\n",
       "       [-0.47080112],\n",
       "       [-0.50887513],\n",
       "       [-0.40951133],\n",
       "       [-0.4762256 ]], dtype=float32)>"
      ]
     },
     "execution_count": 28,
     "metadata": {},
     "output_type": "execute_result"
    }
   ],
   "source": [
    "model(X) - model(X[:, 4:])"
   ]
  },
  {
   "cell_type": "code",
   "execution_count": 25,
   "metadata": {},
   "outputs": [
    {
     "data": {
      "text/plain": [
       "<tf.Tensor: id=5926, shape=(10, 1), dtype=float32, numpy=\n",
       "array([[0.03433532],\n",
       "       [0.01121121],\n",
       "       [0.01130204],\n",
       "       [0.00426761],\n",
       "       [0.03203617],\n",
       "       [0.04435151],\n",
       "       [0.02329135],\n",
       "       [0.01734853],\n",
       "       [0.03443678],\n",
       "       [0.01932057]], dtype=float32)>"
      ]
     },
     "execution_count": 25,
     "metadata": {},
     "output_type": "execute_result"
    }
   ],
   "source": [
    "model(X[:, 1:])"
   ]
  },
  {
   "cell_type": "code",
   "execution_count": 70,
   "metadata": {},
   "outputs": [
    {
     "data": {
      "text/plain": [
       "array([[-10.        , -10.        , -10.        ],\n",
       "       [  0.8217417 ,   0.5983284 ,   0.9266853 ],\n",
       "       [  0.8564886 ,   0.58452183,   0.03146208],\n",
       "       [  0.12346883,   0.34937596,   0.7357722 ],\n",
       "       [  0.7637851 ,   0.16241547,   0.82624596],\n",
       "       [  0.0454489 ,   0.03894287,   0.64615625],\n",
       "       [  0.36622438,   0.65507436,   0.7746543 ],\n",
       "       [  0.7537867 ,   0.8268556 ,   0.7188605 ],\n",
       "       [  0.47962505,   0.99221873,   0.887502  ],\n",
       "       [  0.71823686,   0.86094797,   0.75644326],\n",
       "       [  0.6051172 ,   0.7428403 ,   0.7038012 ],\n",
       "       [  0.5004389 ,   0.93370366,   0.2033808 ]], dtype=float32)"
      ]
     },
     "execution_count": 70,
     "metadata": {},
     "output_type": "execute_result"
    }
   ],
   "source": [
    "X[0, 3:]"
   ]
  },
  {
   "cell_type": "code",
   "execution_count": 86,
   "metadata": {},
   "outputs": [],
   "source": [
    "df = h5py.File(\"data/backblaze_prepared.h5\", \"r\")"
   ]
  },
  {
   "cell_type": "code",
   "execution_count": 87,
   "metadata": {},
   "outputs": [
    {
     "data": {
      "text/plain": [
       "<KeysViewHDF5 ['X', 'Y']>"
      ]
     },
     "execution_count": 87,
     "metadata": {},
     "output_type": "execute_result"
    }
   ],
   "source": [
    "df.keys()"
   ]
  },
  {
   "cell_type": "code",
   "execution_count": 88,
   "metadata": {},
   "outputs": [
    {
     "data": {
      "text/plain": [
       "(35666, 1277, 42)"
      ]
     },
     "execution_count": 88,
     "metadata": {},
     "output_type": "execute_result"
    }
   ],
   "source": [
    "df[\"X\"].shape"
   ]
  },
  {
   "cell_type": "code",
   "execution_count": 89,
   "metadata": {},
   "outputs": [
    {
     "data": {
      "text/plain": [
       "(35666,)"
      ]
     },
     "execution_count": 89,
     "metadata": {},
     "output_type": "execute_result"
    }
   ],
   "source": [
    "df[\"Y\"].shape"
   ]
  },
  {
   "cell_type": "code",
   "execution_count": 90,
   "metadata": {},
   "outputs": [
    {
     "data": {
      "text/plain": [
       "(array([32941,     0,     0,     0,     0,     0,     0,     0,     0,\n",
       "         2725]), array([0. , 0.1, 0.2, 0.3, 0.4, 0.5, 0.6, 0.7, 0.8, 0.9, 1. ],\n",
       "       dtype=float32))"
      ]
     },
     "execution_count": 90,
     "metadata": {},
     "output_type": "execute_result"
    }
   ],
   "source": [
    "np.histogram(df[\"Y\"])"
   ]
  },
  {
   "cell_type": "code",
   "execution_count": 91,
   "metadata": {},
   "outputs": [],
   "source": [
    "X = df[\"X\"][:1000]"
   ]
  },
  {
   "cell_type": "code",
   "execution_count": 98,
   "metadata": {},
   "outputs": [],
   "source": [
    "X.shape\n",
    "\n",
    "X[X == -100] = 0"
   ]
  },
  {
   "cell_type": "code",
   "execution_count": 100,
   "metadata": {},
   "outputs": [
    {
     "data": {
      "text/plain": [
       "array([0., 0., 0., 0., 0., 0., 0., 0., 0., 0., 0., 0., 0., 0., 0., 0., 0.,\n",
       "       0., 0., 0., 0., 0., 0., 0., 0., 0., 0., 0., 0., 0., 0., 0., 0., 0.,\n",
       "       0., 0., 0., 0., 0., 0., 0., 0.], dtype=float32)"
      ]
     },
     "execution_count": 100,
     "metadata": {},
     "output_type": "execute_result"
    }
   ],
   "source": [
    "X.min(axis=1).min(axis=0)"
   ]
  },
  {
   "cell_type": "code",
   "execution_count": 144,
   "metadata": {
    "scrolled": true
   },
   "outputs": [
    {
     "data": {
      "text/plain": [
       "(10, 25)"
      ]
     },
     "execution_count": 144,
     "metadata": {},
     "output_type": "execute_result"
    }
   ],
   "source": [
    "ts = np.array([np.sin(np.linspace(0, 2 * np.pi, 25) + off) for off in np.linspace(0, np.pi, 10)])\n",
    "ts.shape"
   ]
  },
  {
   "cell_type": "code",
   "execution_count": 117,
   "metadata": {},
   "outputs": [],
   "source": [
    "ts = tf.convert_to_tensor(ts, dtype=np.float32)"
   ]
  },
  {
   "cell_type": "code",
   "execution_count": 118,
   "metadata": {},
   "outputs": [
    {
     "data": {
      "text/plain": [
       "<tf.Tensor: id=40871, shape=(), dtype=bool, numpy=False>"
      ]
     },
     "execution_count": 118,
     "metadata": {},
     "output_type": "execute_result"
    }
   ],
   "source": [
    "tf.summary.write(\"coeff\", ts)"
   ]
  },
  {
   "cell_type": "code",
   "execution_count": 119,
   "metadata": {},
   "outputs": [
    {
     "data": {
      "text/plain": [
       "<tf.Tensor: id=40873, shape=(), dtype=bool, numpy=False>"
      ]
     },
     "execution_count": 119,
     "metadata": {},
     "output_type": "execute_result"
    }
   ],
   "source": [
    "tf.summary.write(\"contrib\", ts)"
   ]
  },
  {
   "cell_type": "code",
   "execution_count": 120,
   "metadata": {},
   "outputs": [],
   "source": [
    "tf.summary.flush(writer)"
   ]
  },
  {
   "cell_type": "code",
   "execution_count": 131,
   "metadata": {},
   "outputs": [],
   "source": [
    "_x, _y = np.meshgrid(np.arange(0, ts.shape[1]), np.arange(0, ts.shape[0]))"
   ]
  },
  {
   "cell_type": "code",
   "execution_count": 136,
   "metadata": {},
   "outputs": [
    {
     "data": {
      "image/png": "[encoded data removed]",
      "text/plain": [
       "<Figure size 432x288 with 1 Axes>"
      ]
     },
     "metadata": {
      "needs_background": "light"
     },
     "output_type": "display_data"
    }
   ],
   "source": [
    "import matplotlib.pyplot as plt\n",
    "from mpl_toolkits.mplot3d import axes3d, Axes3D #<-- Note the capitalization! \n",
    "fig = plt.figure()\n",
    "\n",
    "ax = Axes3D(fig) #<-- Note the difference from your original code...\n",
    "\n",
    "ax.plot_surface(_x, _y, ts, cmap='viridis');\n",
    "ax.clabel(cset, fontsize=9, inline=1)\n",
    "ax.set_xlabel('x')\n",
    "ax.set_ylabel('y')\n",
    "ax.set_zlabel('z');"
   ]
  },
  {
   "cell_type": "code",
   "execution_count": 145,
   "metadata": {},
   "outputs": [],
   "source": [
    "with writer.as_default():\n",
    "    tf.summary.write(\"qwsda\", tensor=ts, step=0)"
   ]
  },
  {
   "cell_type": "code",
   "execution_count": 146,
   "metadata": {},
   "outputs": [],
   "source": [
    "tf.summary.flush(writer)"
   ]
  },
  {
   "cell_type": "code",
   "execution_count": null,
   "metadata": {},
   "outputs": [],
   "source": []
  }
 ],
 "metadata": {
  "kernelspec": {
   "display_name": "Python 3",
   "language": "python",
   "name": "python3"
  },
  "language_info": {
   "codemirror_mode": {
    "name": "ipython",
    "version": 3
   },
   "file_extension": ".py",
   "mimetype": "text/x-python",
   "name": "python",
   "nbconvert_exporter": "python",
   "pygments_lexer": "ipython3",
   "version": "3.6.8"
  }
 },
 "nbformat": 4,
 "nbformat_minor": 2
}
