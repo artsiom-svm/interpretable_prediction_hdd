{
 "cells": [
  {
   "cell_type": "code",
   "execution_count": 1,
   "metadata": {},
   "outputs": [],
   "source": [
    "import pickle\n",
    "import h5py\n",
    "import numpy as np\n",
    "import matplotlib.pyplot as plt\n",
    "\n",
    "np.set_printoptions(suppress=True, precision=3)"
   ]
  },
  {
   "cell_type": "code",
   "execution_count": 7,
   "metadata": {},
   "outputs": [],
   "source": [
    "features = pickle.load(open(\"data/selected_features.pkl\", \"rb\"))"
   ]
  },
  {
   "cell_type": "code",
   "execution_count": 15,
   "metadata": {},
   "outputs": [
    {
     "data": {
      "text/plain": [
       "['Raw Reported Uncorrectable Errors',\n",
       " 'Raw SATA Downshift Errors',\n",
       " 'Raw Reallocated Sectors',\n",
       " 'Raw Current Pending Sectors',\n",
       " 'Raw Load Cycles',\n",
       " 'Raw Head Flying Hours',\n",
       " 'Raw Power On Hours',\n",
       " 'Seek Count',\n",
       " 'Raw Start/Stops',\n",
       " 'Raw Power Off Retracts',\n",
       " 'Raw Power Cycles',\n",
       " 'Raw Total LBA Written',\n",
       " 'Raw Total LBA Read']"
      ]
     },
     "execution_count": 15,
     "metadata": {},
     "output_type": "execute_result"
    }
   ],
   "source": [
    "features"
   ]
  },
  {
   "cell_type": "code",
   "execution_count": 2,
   "metadata": {},
   "outputs": [],
   "source": [
    "df = h5py.File(\"data/backblaze_prepared.h5\", \"r\")"
   ]
  },
  {
   "cell_type": "code",
   "execution_count": 3,
   "metadata": {},
   "outputs": [
    {
     "name": "stdout",
     "output_type": "stream",
     "text": [
      "backblaze_compact.h5\t      selected_features.pkl\r\n",
      "backblaze_full.h5\t      smart_attr_names_for_prepared.pkl\r\n",
      "backblaze_full_normalized.h5  smart_attrs_compact.pkl\r\n",
      "backblaze_prepared.h5\t      toyset.hdf5\r\n",
      "HDD_selected.h5\r\n"
     ]
    }
   ],
   "source": [
    "!ls data"
   ]
  },
  {
   "cell_type": "code",
   "execution_count": 4,
   "metadata": {},
   "outputs": [],
   "source": [
    "features = pickle.load(open(\"data/smart_attr_names_for_prepared.pkl\", \"rb\"))"
   ]
  },
  {
   "cell_type": "code",
   "execution_count": 5,
   "metadata": {},
   "outputs": [
    {
     "data": {
      "text/plain": [
       "[(0, 'smart_1__read_error_rate'),\n",
       " (1, 'raw_smart_1__read_error_rate'),\n",
       " (2, 'smart_3__spin_up_time'),\n",
       " (3, 'smart_4__start_stop_count'),\n",
       " (4, 'raw_smart_4__start_stop_count'),\n",
       " (5, 'smart_5__reallocated_sector_count'),\n",
       " (6, 'raw_smart_5__reallocated_sector_count'),\n",
       " (7, 'smart_7__seek_error_rate'),\n",
       " (8, 'raw_smart_7__seek_error_rate'),\n",
       " (9, 'smart_9__power_on_hours'),\n",
       " (10, 'raw_smart_9__power_on_hours'),\n",
       " (11, 'smart_12__power_cycle_count'),\n",
       " (12, 'raw_smart_12__power_cycle_count'),\n",
       " (13, 'smart_183__sata_downshift_error_count'),\n",
       " (14, 'raw_smart_183__sata_downshift_error_count'),\n",
       " (15, 'smart_184__end_to_end_error_IOEDC'),\n",
       " (16, 'raw_smart_184__end_to_end_error_IOEDC'),\n",
       " (17, 'smart_187__reported_uncorrectable_errors'),\n",
       " (18, 'raw_smart_187__reported_uncorrectable_errors'),\n",
       " (19, 'smart_188__command_timeout_count'),\n",
       " (20, 'raw_smart_188__command_timeout_count'),\n",
       " (21, 'smart_189__high_fly_writes'),\n",
       " (22, 'raw_smart_189__high_fly_writes'),\n",
       " (23, 'smart_190__airflow_temperature'),\n",
       " (24, 'raw_smart_190__airflow_temperature'),\n",
       " (25, 'smart_192__power_off_retract_count'),\n",
       " (26, 'raw_smart_192__power_off_retract_count'),\n",
       " (27, 'smart_193__load_cycle_count'),\n",
       " (28, 'raw_smart_193__load_cycle_count'),\n",
       " (29, 'smart_194__temperature'),\n",
       " (30, 'raw_smart_194__temperature'),\n",
       " (31, 'smart_197__current_pending_sector_count'),\n",
       " (32, 'raw_smart_197__current_pending_sector_count'),\n",
       " (33, 'smart_198__offline_uncorrectable_sector_count'),\n",
       " (34, 'raw_smart_198__offline_uncorrectable_sector_count'),\n",
       " (35, 'smart_199__ultraDMA_CRC_error_count'),\n",
       " (36, 'raw_smart_199__ultraDMA_CRC_error_count'),\n",
       " (37, 'raw_smart_240__head_flying_hours'),\n",
       " (38, 'raw_smart_241__total_lba_written'),\n",
       " (39, 'raw_smart_242__total_lba_read'),\n",
       " (40, 'processed smart 7 seek errors'),\n",
       " (41, 'processed smart 7 seek count')]"
      ]
     },
     "execution_count": 5,
     "metadata": {},
     "output_type": "execute_result"
    }
   ],
   "source": [
    "[(i, f) for i,f in enumerate(features)]"
   ]
  },
  {
   "cell_type": "code",
   "execution_count": 6,
   "metadata": {},
   "outputs": [
    {
     "data": {
      "text/plain": [
       "(['Current Pending Sector Count',\n",
       "  'Total Logical Blocks Written',\n",
       "  'Total Logical Blocks Read',\n",
       "  'Load Cycle Coun',\n",
       "  'Power On Hours',\n",
       "  'Temperature',\n",
       "  'Seek Count'],\n",
       " 7)"
      ]
     },
     "execution_count": 6,
     "metadata": {},
     "output_type": "execute_result"
    }
   ],
   "source": [
    "selective_7_feautures = [\n",
    "    \"Current Pending Sector Count\",\n",
    "    \"Total Logical Blocks Written\",\n",
    "    \"Total Logical Blocks Read\",\n",
    "    \"Load Cycle Coun\",\n",
    "    \"Power On Hours\",\n",
    "    \"Temperature\",\n",
    "    \"Seek Count\"\n",
    "]\n",
    "selective_7_feautures, len(selective_7_feautures)"
   ]
  },
  {
   "cell_type": "code",
   "execution_count": 7,
   "metadata": {},
   "outputs": [
    {
     "data": {
      "text/plain": [
       "[32, 38, 39, 28, 10, 30, 41]"
      ]
     },
     "execution_count": 7,
     "metadata": {},
     "output_type": "execute_result"
    }
   ],
   "source": [
    "ids = [\n",
    "    32,\n",
    "    38,\n",
    "    39,\n",
    "    28,\n",
    "    10,\n",
    "    30,\n",
    "    41\n",
    "]\n",
    "ids"
   ]
  },
  {
   "cell_type": "code",
   "execution_count": 9,
   "metadata": {},
   "outputs": [
    {
     "data": {
      "text/plain": [
       "(35666, 1277, 7)"
      ]
     },
     "execution_count": 9,
     "metadata": {},
     "output_type": "execute_result"
    }
   ],
   "source": [
    "X = np.empty((*df['X'].shape[:-1], len(ids)))\n",
    "X.shape"
   ]
  },
  {
   "cell_type": "code",
   "execution_count": 11,
   "metadata": {},
   "outputs": [],
   "source": [
    "for i,_id in enumerate(ids):\n",
    "    X[:, :, i] = df['X'][:, :, _id]"
   ]
  },
  {
   "cell_type": "code",
   "execution_count": 12,
   "metadata": {},
   "outputs": [
    {
     "data": {
      "text/plain": [
       "True"
      ]
     },
     "execution_count": 12,
     "metadata": {},
     "output_type": "execute_result"
    }
   ],
   "source": [
    "np.alltrue(X[:, :, 0] == df['X'][:, :, 32])"
   ]
  },
  {
   "cell_type": "code",
   "execution_count": 13,
   "metadata": {},
   "outputs": [
    {
     "data": {
      "text/plain": [
       "array([-101.   , -101.   , -101.   , -101.   ,  -63.378, -101.   ,\n",
       "        -39.274])"
      ]
     },
     "execution_count": 13,
     "metadata": {},
     "output_type": "execute_result"
    }
   ],
   "source": [
    "mask = (-100 - 1) / (X.max(axis=0).max(axis=0) - 1)\n",
    "mask"
   ]
  },
  {
   "cell_type": "code",
   "execution_count": 14,
   "metadata": {},
   "outputs": [
    {
     "data": {
      "text/plain": [
       "array([2.   , 2.   , 2.   , 2.   , 2.594, 2.   , 3.572])"
      ]
     },
     "execution_count": 14,
     "metadata": {},
     "output_type": "execute_result"
    }
   ],
   "source": [
    "X.max(axis=0).max(axis=0)"
   ]
  },
  {
   "cell_type": "code",
   "execution_count": 12,
   "metadata": {},
   "outputs": [],
   "source": [
    "_X = ((X - 1) / (X.max(axis=0).max(axis=0) - 1))"
   ]
  },
  {
   "cell_type": "code",
   "execution_count": 13,
   "metadata": {},
   "outputs": [
    {
     "data": {
      "text/plain": [
       "array([1., 1., 1., 1., 1., 1., 1.])"
      ]
     },
     "execution_count": 13,
     "metadata": {},
     "output_type": "execute_result"
    }
   ],
   "source": [
    "_X.max(axis=0).max(axis=0)"
   ]
  },
  {
   "cell_type": "code",
   "execution_count": 14,
   "metadata": {},
   "outputs": [],
   "source": [
    "for i, m in enumerate(mask):\n",
    "    x = _X[:, :, i]\n",
    "    x[x == m] = -100"
   ]
  },
  {
   "cell_type": "code",
   "execution_count": 16,
   "metadata": {},
   "outputs": [
    {
     "data": {
      "text/plain": [
       "(array([ 65718975,         0,         0,         0,         0,         0,\n",
       "                0,         0,         0, 253099399]),\n",
       " array([-100. ,  -89.9,  -79.8,  -69.7,  -59.6,  -49.5,  -39.4,  -29.3,\n",
       "         -19.2,   -9.1,    1. ]))"
      ]
     },
     "execution_count": 16,
     "metadata": {},
     "output_type": "execute_result"
    }
   ],
   "source": [
    "np.histogram(_X)"
   ]
  },
  {
   "cell_type": "code",
   "execution_count": null,
   "metadata": {},
   "outputs": [],
   "source": [
    "one_year = X[:, ]"
   ]
  },
  {
   "cell_type": "code",
   "execution_count": null,
   "metadata": {},
   "outputs": [],
   "source": []
  },
  {
   "cell_type": "code",
   "execution_count": 20,
   "metadata": {},
   "outputs": [
    {
     "data": {
      "text/plain": [
       "(35666, 1277, 7)"
      ]
     },
     "execution_count": 20,
     "metadata": {},
     "output_type": "execute_result"
    }
   ],
   "source": [
    "__X = np.empty_like(_X)\n",
    "__X.shape"
   ]
  },
  {
   "cell_type": "code",
   "execution_count": 21,
   "metadata": {},
   "outputs": [
    {
     "data": {
      "text/plain": [
       "(35666,)"
      ]
     },
     "execution_count": 21,
     "metadata": {},
     "output_type": "execute_result"
    }
   ],
   "source": [
    "offs = np.sum(np.alltrue(_X == -100, axis=-1), axis=-1)\n",
    "offs.shape"
   ]
  },
  {
   "cell_type": "code",
   "execution_count": 22,
   "metadata": {},
   "outputs": [],
   "source": [
    "for i,off in enumerate(offs):\n",
    "    if off != 0:\n",
    "        __X[i, :-off] = _X[i, off:]\n",
    "        __X[i, -off:] = _X[i, :off]\n",
    "    else:\n",
    "        __X[i] = _X[i]"
   ]
  },
  {
   "cell_type": "code",
   "execution_count": 2,
   "metadata": {},
   "outputs": [
    {
     "data": {
      "text/plain": [
       "<KeysViewHDF5 ['Names', 'X', 'Y', 'one_year', 'two_year']>"
      ]
     },
     "execution_count": 2,
     "metadata": {},
     "output_type": "execute_result"
    }
   ],
   "source": [
    "df = h5py.File(\"data/backblaze_full_normalized.h5\", \"a\")\n",
    "\n",
    "df.keys()"
   ]
  },
  {
   "cell_type": "code",
   "execution_count": 23,
   "metadata": {},
   "outputs": [
    {
     "data": {
      "text/plain": [
       "<HDF5 dataset \"X\": shape (35666, 1277, 7), type \"<f4\">"
      ]
     },
     "execution_count": 23,
     "metadata": {},
     "output_type": "execute_result"
    }
   ],
   "source": [
    "df.create_dataset(name=\"X\", data=__X, dtype=np.float32)"
   ]
  },
  {
   "cell_type": "code",
   "execution_count": 4,
   "metadata": {},
   "outputs": [],
   "source": [
    "df2 = h5py.File(\"data/backblaze_prepared.h5\", \"r\")"
   ]
  },
  {
   "cell_type": "code",
   "execution_count": 24,
   "metadata": {},
   "outputs": [
    {
     "data": {
      "text/plain": [
       "(35666,)"
      ]
     },
     "execution_count": 24,
     "metadata": {},
     "output_type": "execute_result"
    }
   ],
   "source": [
    "df2['Y'].shape"
   ]
  },
  {
   "cell_type": "code",
   "execution_count": 25,
   "metadata": {},
   "outputs": [
    {
     "data": {
      "text/plain": [
       "array([0., 0., 0., 1., 0., 0., 0., 0., 0., 0.], dtype=float32)"
      ]
     },
     "execution_count": 25,
     "metadata": {},
     "output_type": "execute_result"
    }
   ],
   "source": [
    "df2['Y'][:10]"
   ]
  },
  {
   "cell_type": "code",
   "execution_count": 26,
   "metadata": {},
   "outputs": [
    {
     "data": {
      "text/plain": [
       "<HDF5 dataset \"Y\": shape (35666,), type \"<f4\">"
      ]
     },
     "execution_count": 26,
     "metadata": {},
     "output_type": "execute_result"
    }
   ],
   "source": [
    "df.create_dataset(name=\"Y\", data=df2['Y'][:], dtype=np.float32)"
   ]
  },
  {
   "cell_type": "code",
   "execution_count": 27,
   "metadata": {},
   "outputs": [],
   "source": [
    "df.flush()"
   ]
  },
  {
   "cell_type": "code",
   "execution_count": 29,
   "metadata": {},
   "outputs": [
    {
     "data": {
      "text/plain": [
       "array([0., 0., 0., 1., 0., 0., 0., 0., 0., 0.], dtype=float32)"
      ]
     },
     "execution_count": 29,
     "metadata": {},
     "output_type": "execute_result"
    }
   ],
   "source": [
    "y = df2['Y'][:10]\n",
    "y"
   ]
  },
  {
   "cell_type": "code",
   "execution_count": 42,
   "metadata": {},
   "outputs": [
    {
     "data": {
      "text/plain": [
       "array([b'HDD:0:0', b'HDD:1:0', b'HDD:2:0', ..., b'HDD:35663:0',\n",
       "       b'HDD:35664:0', b'HDD:35665:1'], dtype='|S13')"
      ]
     },
     "execution_count": 42,
     "metadata": {},
     "output_type": "execute_result"
    }
   ],
   "source": [
    "names = np.array([\n",
    "    f'HDD:{i}:{int(val)}'.encode()\n",
    "    for i, val in enumerate(df2['Y'][:])]).astype('S13')\n",
    " \n",
    "names"
   ]
  },
  {
   "cell_type": "code",
   "execution_count": 43,
   "metadata": {},
   "outputs": [
    {
     "data": {
      "text/plain": [
       "<HDF5 dataset \"Names\": shape (35666,), type \"|S13\">"
      ]
     },
     "execution_count": 43,
     "metadata": {},
     "output_type": "execute_result"
    }
   ],
   "source": [
    "df.create_dataset(name='Names', data=names)"
   ]
  },
  {
   "cell_type": "code",
   "execution_count": 44,
   "metadata": {},
   "outputs": [],
   "source": [
    "df.close()"
   ]
  },
  {
   "cell_type": "code",
   "execution_count": 3,
   "metadata": {},
   "outputs": [],
   "source": [
    "X = df['X'][:]"
   ]
  },
  {
   "cell_type": "code",
   "execution_count": 19,
   "metadata": {},
   "outputs": [],
   "source": [
    "def slice_seq(x, days, mask):\n",
    "    offs = np.sum(np.alltrue(x == mask, axis=-1), axis=-1)\n",
    "    end = x.shape[1] - offs\n",
    "    start = np.max([end - days, np.zeros_like(end)], axis=0) \n",
    "    _x = mask * np.ones((X.shape[0], days, X.shape[2]))\n",
    "    for i,(s, e) in enumerate(zip(start, end)):\n",
    "        _x[i, 0:(e-s)] = x[i, s:e] \n",
    "    return _x"
   ]
  },
  {
   "cell_type": "code",
   "execution_count": 45,
   "metadata": {},
   "outputs": [
    {
     "data": {
      "text/plain": [
       "<HDF5 dataset \"Names\": shape (35666,), type \"|S13\">"
      ]
     },
     "execution_count": 45,
     "metadata": {},
     "output_type": "execute_result"
    }
   ],
   "source": [
    "one_year_X = slice_seq(X, 365, -100)\n",
    "\n",
    "one_year = df.create_group(\"one_year\")\n",
    "\n",
    "one_year.create_dataset(name=\"X\", data=one_year_X, dtype=np.float32)\n",
    "one_year.create_dataset(name=\"Y\", data=df['Y'][:], dtype=np.float32)\n",
    "one_year.create_dataset(name=\"Names\", data=df['Names'][:], dtype=df['Names'].dtype)"
   ]
  },
  {
   "cell_type": "code",
   "execution_count": 46,
   "metadata": {},
   "outputs": [
    {
     "data": {
      "text/plain": [
       "<HDF5 dataset \"Names\": shape (35666,), type \"|S13\">"
      ]
     },
     "execution_count": 46,
     "metadata": {},
     "output_type": "execute_result"
    }
   ],
   "source": [
    "two_year_X = slice_seq(X, 365*2, -100)\n",
    "\n",
    "two_year = df.create_group(\"two_year\")\n",
    "\n",
    "two_year.create_dataset(name=\"X\", data=one_year_X, dtype=np.float32)\n",
    "two_year.create_dataset(name=\"Y\", data=df['Y'][:], dtype=np.float32)\n",
    "two_year.create_dataset(name=\"Names\", data=df['Names'][:], dtype=df['Names'].dtype)"
   ]
  },
  {
   "cell_type": "code",
   "execution_count": 4,
   "metadata": {},
   "outputs": [
    {
     "data": {
      "text/plain": [
       "(35666,)"
      ]
     },
     "execution_count": 4,
     "metadata": {},
     "output_type": "execute_result"
    }
   ],
   "source": [
    "Y = df['Y'][:]\n",
    "Y.shape"
   ]
  },
  {
   "cell_type": "code",
   "execution_count": 6,
   "metadata": {},
   "outputs": [],
   "source": [
    "Y = Y.reshape((-1, 1))"
   ]
  },
  {
   "cell_type": "code",
   "execution_count": 7,
   "metadata": {},
   "outputs": [
    {
     "data": {
      "text/plain": [
       "<HDF5 dataset \"Y\": shape (35666, 1), type \"<f4\">"
      ]
     },
     "execution_count": 7,
     "metadata": {},
     "output_type": "execute_result"
    }
   ],
   "source": [
    "del df['Y']\n",
    "df.create_dataset(name=\"Y\", data=Y, dtype=np.float32)"
   ]
  },
  {
   "cell_type": "code",
   "execution_count": 9,
   "metadata": {},
   "outputs": [
    {
     "data": {
      "text/plain": [
       "<HDF5 dataset \"Y\": shape (35666, 1), type \"<f4\">"
      ]
     },
     "execution_count": 9,
     "metadata": {},
     "output_type": "execute_result"
    }
   ],
   "source": [
    "gr = df['two_year']\n",
    "del gr['Y']\n",
    "gr.create_dataset(name=\"Y\", data=Y, dtype=np.float32)"
   ]
  },
  {
   "cell_type": "code",
   "execution_count": 13,
   "metadata": {},
   "outputs": [
    {
     "data": {
      "text/plain": [
       "(35666, 1)"
      ]
     },
     "execution_count": 13,
     "metadata": {},
     "output_type": "execute_result"
    }
   ],
   "source": [
    "df['two_year']['Y'].shape"
   ]
  },
  {
   "cell_type": "code",
   "execution_count": 14,
   "metadata": {},
   "outputs": [],
   "source": [
    "df.flush()\n",
    "df.close()"
   ]
  },
  {
   "cell_type": "code",
   "execution_count": 3,
   "metadata": {},
   "outputs": [
    {
     "data": {
      "text/plain": [
       "<HDF5 dataset \"Y\": shape (35666, 1), type \"<f4\">"
      ]
     },
     "execution_count": 3,
     "metadata": {},
     "output_type": "execute_result"
    }
   ],
   "source": [
    "grp = df.create_group(\"90_days\")\n",
    "\n",
    "grp.create_dataset(name=\"Y\", data=df['Y'][:], dtype=df['Y'].dtype)"
   ]
  },
  {
   "cell_type": "code",
   "execution_count": 4,
   "metadata": {},
   "outputs": [],
   "source": [
    "X = df['X'][:]"
   ]
  },
  {
   "cell_type": "code",
   "execution_count": 6,
   "metadata": {},
   "outputs": [
    {
     "data": {
      "text/plain": [
       "(35666,)"
      ]
     },
     "execution_count": 6,
     "metadata": {},
     "output_type": "execute_result"
    }
   ],
   "source": [
    "offs = np.sum(np.alltrue(X == -100, axis=-1), axis=-1)\n",
    "offs.shape"
   ]
  },
  {
   "cell_type": "code",
   "execution_count": 7,
   "metadata": {},
   "outputs": [
    {
     "data": {
      "text/plain": [
       "16"
      ]
     },
     "execution_count": 7,
     "metadata": {},
     "output_type": "execute_result"
    }
   ],
   "source": [
    "offs[0]"
   ]
  },
  {
   "cell_type": "code",
   "execution_count": 14,
   "metadata": {},
   "outputs": [],
   "source": [
    "_X = []"
   ]
  },
  {
   "cell_type": "code",
   "execution_count": 15,
   "metadata": {},
   "outputs": [],
   "source": [
    "i = 0\n",
    "idx = []\n",
    "for j,off in enumerate(offs):\n",
    "    end = X.shape[1] - off\n",
    "    if end > 90:\n",
    "        _X.append(X[j,end-90:end])\n",
    "        idx.append(j)"
   ]
  },
  {
   "cell_type": "code",
   "execution_count": 17,
   "metadata": {},
   "outputs": [],
   "source": [
    "_X = np.array(_X)"
   ]
  },
  {
   "cell_type": "code",
   "execution_count": 18,
   "metadata": {},
   "outputs": [
    {
     "data": {
      "text/plain": [
       "(35462, 90, 7)"
      ]
     },
     "execution_count": 18,
     "metadata": {},
     "output_type": "execute_result"
    }
   ],
   "source": [
    "_X.shape"
   ]
  },
  {
   "cell_type": "code",
   "execution_count": 19,
   "metadata": {},
   "outputs": [],
   "source": [
    "names = df['Names'][idx]"
   ]
  },
  {
   "cell_type": "code",
   "execution_count": 20,
   "metadata": {},
   "outputs": [
    {
     "data": {
      "text/plain": [
       "(35462,)"
      ]
     },
     "execution_count": 20,
     "metadata": {},
     "output_type": "execute_result"
    }
   ],
   "source": [
    "names.shape"
   ]
  },
  {
   "cell_type": "code",
   "execution_count": 21,
   "metadata": {},
   "outputs": [
    {
     "data": {
      "text/plain": [
       "(35462, 1)"
      ]
     },
     "execution_count": 21,
     "metadata": {},
     "output_type": "execute_result"
    }
   ],
   "source": [
    "y = df['Y'][idx]\n",
    "y.shape"
   ]
  },
  {
   "cell_type": "code",
   "execution_count": 22,
   "metadata": {},
   "outputs": [],
   "source": [
    "del grp['Y']"
   ]
  },
  {
   "cell_type": "code",
   "execution_count": 23,
   "metadata": {},
   "outputs": [
    {
     "data": {
      "text/plain": [
       "<HDF5 dataset \"Names\": shape (35462,), type \"|S13\">"
      ]
     },
     "execution_count": 23,
     "metadata": {},
     "output_type": "execute_result"
    }
   ],
   "source": [
    "grp.create_dataset(name=\"X\", data=_X, dtype=_X.dtype)\n",
    "grp.create_dataset(name=\"Y\", data=y, dtype=y.dtype)\n",
    "grp.create_dataset(name=\"Names\", data=names, dtype=names.dtype)"
   ]
  },
  {
   "cell_type": "code",
   "execution_count": 24,
   "metadata": {},
   "outputs": [],
   "source": [
    "df.flush(); df.close()"
   ]
  },
  {
   "cell_type": "code",
   "execution_count": null,
   "metadata": {},
   "outputs": [],
   "source": []
  }
 ],
 "metadata": {
  "kernelspec": {
   "display_name": "Python 3",
   "language": "python",
   "name": "python3"
  },
  "language_info": {
   "codemirror_mode": {
    "name": "ipython",
    "version": 3
   },
   "file_extension": ".py",
   "mimetype": "text/x-python",
   "name": "python",
   "nbconvert_exporter": "python",
   "pygments_lexer": "ipython3",
   "version": "3.6.8"
  }
 },
 "nbformat": 4,
 "nbformat_minor": 2
}
